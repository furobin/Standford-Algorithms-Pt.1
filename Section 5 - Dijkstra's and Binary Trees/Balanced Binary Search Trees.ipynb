{
 "cells": [
  {
   "cell_type": "markdown",
   "metadata": {},
   "source": [
    "# Balanced Binary Search Trees"
   ]
  },
  {
   "cell_type": "markdown",
   "metadata": {},
   "source": [
    "Sorted Arrays: Sorted Operations\n",
    " - If things in a binary search tree, can think of data as in a sorted array that supports insertions and deletions\n",
    " - Sorted Array Operations:\n",
    "     - Search (Ologn) (binary search for example), find a certain element's index. \n",
    "     - Selection given order statistic i (O(1))\n",
    "     - Min/Max, similar to selection problem (O(1))\n",
    "     - Pred/Succ (Predecessor finds next smallest, Successor finds next largest) (O(1)). Given pointer, can find Pred and Succ\n",
    "     - Rank (i.e. # of keys less than or equal to a given value). Basically search, look for given key, return that. O(logn)\n",
    "         - If look for a number not in array, will be stuck between two indices. Return smaller of the two. \n",
    "     - Output in Sorted Order (O(n)), linear scan through array, return each. Constant time per element. \n",
    "- Above Operations only for static array though, what if we want insertions and deletions? Can run these operations on sorted array but will run too slow. Will copy over linear # of stuff to maintain sorted array property. Bad. "
   ]
  },
  {
   "cell_type": "markdown",
   "metadata": {},
   "source": [
    "Balanced Search Tree: Like sorted array + fast (logarithmic time) inserts and deletes.\n",
    " - Search (O(logn))\n",
    " - Select (O(logn)), used to be constant\n",
    " - Min/Max (O(logn)), used to be constant\n",
    " - Pred/Succ (O(logn)), used to be constant\n",
    " - Rank (O(logn))\n",
    " - Output in Sorted Order (O(n))\n",
    " - Insert (O(logn)) - New\n",
    " - Delete (O(logn)) - New\n",
    " \n",
    "Compared to others:\n",
    " - Sorted Array, use if do not need to have a mutable object. \n",
    " - Heap, only keeps track of min *or* max, but Binary Search Tree has both. But, supports insert and delete in logn. Also has benefits in both constant factors in space and time for the operations. \n",
    " - Hash Table (good with insertions and searches aka lookups, can also do deletions with good implementation). If do not need min, max, ordering info of keys, etc."
   ]
  },
  {
   "cell_type": "markdown",
   "metadata": {},
   "source": [
    "## Implementation Of Binary Search Tree"
   ]
  },
  {
   "cell_type": "markdown",
   "metadata": {},
   "source": [
    "These true for both balanced and unbalanced search trees"
   ]
  },
  {
   "cell_type": "markdown",
   "metadata": {},
   "source": [
    "Structure:\n",
    " - Exactly one node per key (remember, key values generally point to larger thing. Just a number representation of smthn)\n",
    " - At each node, there are 3 pointers. Left Child, Right Child, Parent. Pointers can be null (root parent pointer is null)\n",
    " - Search Tree Property: If the node has some key value, all nodes in the left subtree should be smaller than that key. All nodes in right subtree should be larger than that key. Holds at every single node of the tree. \n",
    "     - Can handle duplicate keys but must have some convention abt handling ties. For EX: Can say everything in left is <= to key and everything in right is strictly bigger. \n",
    "     - Property helps tell you exactly where to look for a specific key. V similar to binary search. \n",
    " - Height (aka depth, longest root-leaf path) of a binary search tree: \n",
    "     - Many possible trees for a given set of keys. Height can be anywhere from ~log2(n) to ~n. \n",
    "     - log(2) perfectly balanced, #nodes doubles at each level. n is worst case, a chain"
   ]
  },
  {
   "cell_type": "markdown",
   "metadata": {},
   "source": [
    "Searching for key k in tree T:\n",
    " - Start at root\n",
    " - if key k < root, go to left child, recurse\n",
    " - if key k > root, go to right child, recurse\n",
    " - return node with key k or NULL as appropriate (Null if run out of pointers)\n",
    " \n",
    "Insertion (Simplicity sake, think abt no duplicate keys:\n",
    " - Search for key k. Because no dupes, this will not succeed. \n",
    " - Will follow search operation above, will terminate at a pointer with Null\n",
    " - Rewire final Null position to point to new node with key k. \n",
    " - To permit duplicates, want to tweak code. Need convention for handling the case when you do encounter the key that we want to insert. \n",
    "     - EX: If current node has key equal to key we're inserting, have convention always continue on the left subtree and search again or smthn like that. \n",
    "     - When insert a new node, must retain search tree property. \n",
    "     \n",
    "For both, worst case running time is O(height) of tree. "
   ]
  },
  {
   "cell_type": "markdown",
   "metadata": {},
   "source": [
    "Minimum Key of a Tree:\n",
    " - Start at root\n",
    " - Keep following left-child pointers until hit a Null, then return the last key found. Basically search for -inf. \n",
    " \n",
    "Maximum Key ofa Tree:\n",
    " - Start at root\n",
    " - Keep following right-child pointers, Basically search for inf. Return last key found. \n",
    " \n",
    "Predecessor of Key k (i.e. next smallest):\n",
    " - Easy Case: if k's left subtree nonempty, return max key in left subtree. \n",
    " - Otherwise: \n",
    "     - Follow parent pointer. Keep following parent pointers until finding a key smaller than k. Return that key. Happens first time you \"turn left\" when going up parent pointers. \n",
    "     \n",
    "Sucessor of key k (i.e. next largest):\n",
    " - Easy Case: if k's right subtree nonempty, return max-key in right subtree\n",
    " - Otherwise:\n",
    "     - Follow parent pointer until find a key larger than k. Return that key. Happens at first \"right turn\" going up pointers.\n",
    "     \n",
    "These all run in O(height) of a tree in worst case. "
   ]
  },
  {
   "cell_type": "markdown",
   "metadata": {},
   "source": [
    "In-Order Traversal:\n",
    " - Let r = root of search tree with subtrees TL (subtrees to left) and TR (subtrees to right)\n",
    " - Recurse on TL\n",
    "     - By recursion/induction, prints out keys of TL in increasing order. \n",
    " - Print out r's key. \n",
    " - Recurse on TR (prints out keys of TR in increasing order). \n",
    " \n",
    "Running Time = O(n). n recursive calls, each call prints one key, so O(n)\n",
    "\n",
    "Can prove correctness by induction (like DnC algorithms). "
   ]
  },
  {
   "cell_type": "markdown",
   "metadata": {},
   "source": [
    "Deletion key k from a search tree:\n",
    " - Search for k\n",
    " - Easy Case: k has no children. \n",
    "     - Delete k's node from tree. Done.\n",
    " - Medium Case: k has 1 child. \n",
    "     - \"Splice out\" k's node, leaves hole in tree\n",
    "     - Unique child assumes position previously held by k's node. All descendants ofc follow it\n",
    " - Difficult Case: k's node has 2 children\n",
    "     - Compute k's predecessor l (next smallest key in tree). In the easy case of predecessor operation bc, since has 2 subchildren, definitely has left subtree. Effectively follow k's left child, then keep following right children until can't anymore\n",
    "     - Swap k and l, delete k.\n",
    "     - This deletion is easy because k now has no right child. Medium case as seen above. \n",
    "\n",
    "Exercise: at end, check that we have a valid search tree. \n",
    "\n",
    "Run Time: O(height). Basically bc just run's predecessors and search. "
   ]
  },
  {
   "cell_type": "markdown",
   "metadata": {},
   "source": [
    "Select and Rank:\n",
    " - Idea, store a little bit of extra info at each tree node about the tree itself. Called \"augmenting the data structure\"\n",
    " - Example: size(x) = # of tree nodes in a subtree rooted at x. So, size(root) = # of nodes in tree. # of nodes reachable from a node x. \n",
    "     - If x has children y and z, then size(x) = size(y) + size(z) + 1\n",
    "     - Easy to keep sizes up-to-date during an insertion or deletion. When insert or delete at a position, run up the tree and add 1 or subtract 1 for all parents sizes. \n",
    " - Note, when augmenting, must be sure to maintain extra data. When structure is modified (insert or delete), must make sure to keep this extra data valid. \n",
    " \n",
    "Select ith Order Stat (with Augmented Tree above):\n",
    " - Start at root x with children y and z (can be null). y has smaller keys, z has larger keys. \n",
    " - Note, x is size(y) + 1 order statistic. e.g. if size(y) = 12, x is 13th smallest statistic\n",
    " - Let a = size(y), a = 0 if x has no left child.\n",
    " - if a = i - 1, return x's key (aka x is ith statistic)\n",
    " - if a >= i, recursively compute ith order statistic of y's subtree\n",
    " - if a < i - 1, recursively compute (i - a - 1)th order stat of search tree rated at z. \n",
    " \n",
    "Each recursion constant time, can move down tree height number of times. Running Time = O(height). \n",
    "\n",
    "Rank is very similar using augmented search trees. "
   ]
  },
  {
   "cell_type": "markdown",
   "metadata": {},
   "source": [
    "## Red-Black Trees"
   ]
  },
  {
   "cell_type": "markdown",
   "metadata": {},
   "source": [
    "Balanced Search Trees:\n",
    " - Controls the height of the tree by having levels and trees be balanced. Makes height be log2(n) and maintains it through insertions and deletions. \n",
    " - In doing so, Search/Insert/Delete/Min/Max/Pred/Succ will run in O(logn)\n",
    " - Red-Black Trees are one type of Balanced Binary Search Trees. Others include Splay Trees (modified too in lookups and searches, self-adjusting trees), AVL trees.\n",
    " - B or B+ Trees, relevant for databases. One node, many keys and many branches that can be taken. \n",
    "     - Goes beyond binary paradigm, better match-up with memory hierarchy. \n",
    " - Balanced Tree paradigms pretty consistent for all types of balanced trees"
   ]
  },
  {
   "cell_type": "markdown",
   "metadata": {},
   "source": [
    "Red-Black Invariants:\n",
    " - Each node marked as red or black. \n",
    " - Root is black.\n",
    " - No 2 reds will occur in a row. [Red node -> only black children]\n",
    " - Every path taken from root -> Null path passes through exactly same # of black noes (basically unsuccessful search to bottom of tree).\n"
   ]
  },
  {
   "cell_type": "markdown",
   "metadata": {},
   "source": [
    "Example Claim: A chain of length 3 cannot be a red-black tree:\n",
    "\n",
    "Proof: Lets say nodes numbered 1 to 3:\n",
    " - 1 is black, the root, Goes to 2 then to 3\n",
    " - 2 and 3 cannot both be red. Can be Black Red, Red Black, Black Black\n",
    " - But regardless of coloring, invariant 4 will be broken. \n",
    "     - For EX: search 0, will hit a null pointer to left. Find 1 black node on unsuccessful\n",
    "     - Search for 4: can hit 2 or 3 black nodes on unsucessful"
   ]
  },
  {
   "cell_type": "markdown",
   "metadata": {},
   "source": [
    "Claim: If 4 invariants are satisfied, height is going to be small (no more than 2log2(n + 1))\n",
    "\n",
    "Proof:\n",
    " - Observation on binary trees: if every rook -> Null has >= k nodes, then tree has to include perf balanced search tree of depth k-1 at the top. \n",
    "     - Size n of this perf tree must be at least 2^k - 1. EX, if k = 3, this perf section contains 7 nodes. \n",
    " - Size n >= 2^k - 1, where k = min # of nodes on root-Null path. Then, k <= log2(n + 1)\n",
    " - Thus, in a red-black tree with n nodes, there is a root-Null path with at most log2(n+1) black nodes. \n",
    " - By 4th invariant every root-Null path has <= log2(n+1) black nodes.\n",
    " - By 3rd Invariant every root-Null path has <= 2log2(n+1) total nodes (since no two red nodes in a row. At worst, alternates red and black everytime, aka 2log2(n+1) nodes. QED\n",
    " \n",
    "Hard work is maintaining invariants through insertions and deletions. Must stay blanced and have low heiht, even under arbitrary sequences of insertions and deletions. Can be done without significant slow downs, but not covered here. Can find online.\n",
    "\n",
    "To understand details, can study open-source implementations of these structures or find textbooks"
   ]
  },
  {
   "cell_type": "markdown",
   "metadata": {},
   "source": [
    "### Rotations - Key Primitive in All Balanced Binary Search Tree Implementations"
   ]
  },
  {
   "cell_type": "markdown",
   "metadata": {},
   "source": [
    "Idea - Do constant work (by rewiring pointers) to locally rebalance subtrees at a node in O(1) time. Done on a parent-child pair. \n",
    " - If done on left child, do a right rotation. Do on parent and right child, do a Left Rotation. \n",
    "    \n",
    "Left Rotation: Parent x and right child y. x has parent P\n",
    " - A = Left SubTree of X. A < x < y\n",
    " - B = Left SubTree of Y. x < B < y\n",
    " - C = Right Subtree of Y. x < y < C\n",
    " - Wnat to invert the relationship beteen nodes x and y. Current, x is parent and y is child. Want to rewire pointers so that y is parent and x is child. \n",
    " - x becomes left child of Y, Y inherits parent P. P doesn't care X or Y direct descendent bc all < or > P given structure of tree.\n",
    " - A remains as X's left child. C remains as Y's left child. \n",
    " - B becomes x's right child. Everything remains intact. Nice. \n",
    " \n",
    "Right Rotations is basically the same thing. Invert relation between parent and Left Child. \n",
    "\n",
    "Rotations done in constant time since rewiring a constant number of pointers. "
   ]
  },
  {
   "cell_type": "markdown",
   "metadata": {},
   "source": [
    "### Insertions in a Red-Black Tree"
   ]
  },
  {
   "cell_type": "markdown",
   "metadata": {},
   "source": [
    "High-Level Plan:\n",
    " - Implement Insert/Delete as if in a regular binary search tree. If invariant is broken, fix it via Recoloring (recolor red or black) and rotations. \n",
    " - Deletion is hard as fuck, even for a regular binary tree lmao. Look for it elsewhere.\n",
    " \n",
    "Insert(x):\n",
    " - Insert x as usual (makes x a leaf). But, must be red or black. Difficult bc of invariants.\n",
    " - Choose lesser of 2 evils. Try coloring x red. Lesser of evils bc is local as opposed to messing up \"black-count\" for entire tree. More difficult invariant to fix. \n",
    "     - If x's parent is black, then no problem. All chillin. \n",
    "     - Else (y is red):\n",
    "         - Remember, before x, the tree was fine. So, y is not root and had parent w. Since y is red, parent w must be black. \n",
    "         - w has other child, z.\n",
    "         - Case 1: z is also red. \n",
    "             - Recolor z and y black, recolor w red. Basically, consolidate reds at w. Does not break 4th invariant.\n",
    "             - For any path that does not go through w, irrelevant. For a path that does go through w, must go thorugh z or y to get to a null pointer. Before, this path picked a path via w and did not pick up any via z or y. Post recolor, does not pick up black via w but does through either z or y, so 4th invariant continues to hold. \n",
    "             - Now, must consider w's parent. If parent is black, all good and 3rd variant restored. Otherwise, moves double-red problem upward.\n",
    "             - Can only visit case 1 O(logn) times as it moves up the tree (since red-black trees \n",
    "                 - Also, if w is black and got recolored red, just change it back to black. Does not break anything. \n",
    "         - Case 2: z does not exist or is black. \n",
    "             - Let x,y be the current double-red. x is the deeper node\n",
    "             - Let w = x's grandparent i.e. y's parent\n",
    "             - Can eliminate double-red in O(1) time via 2-3 rotations and some recolorings. \n",
    "             \n",
    "Case 1 propogates double-red up the tree. Can terminate in 3 ways:\n",
    " - 1. Get lucky, at some point during recoloring, don't get double red \n",
    " - 2. Propogate up to root of the tree, done w/recoloring root back to black\n",
    " - 3. Finds self in case 2, fixes in constant time\n",
    " \n",
    "So, worst case, work done by # of double-red propogations which is bounded by height of tree. At worst O(logn). "
   ]
  }
 ],
 "metadata": {
  "kernelspec": {
   "display_name": "Python 3",
   "language": "python",
   "name": "python3"
  },
  "language_info": {
   "codemirror_mode": {
    "name": "ipython",
    "version": 3
   },
   "file_extension": ".py",
   "mimetype": "text/x-python",
   "name": "python",
   "nbconvert_exporter": "python",
   "pygments_lexer": "ipython3",
   "version": "3.7.6"
  }
 },
 "nbformat": 4,
 "nbformat_minor": 4
}
