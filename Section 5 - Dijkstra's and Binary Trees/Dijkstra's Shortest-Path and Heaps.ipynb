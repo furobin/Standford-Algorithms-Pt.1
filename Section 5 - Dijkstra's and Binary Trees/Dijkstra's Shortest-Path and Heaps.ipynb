{
 "cells": [
  {
   "cell_type": "markdown",
   "metadata": {},
   "source": [
    "# Djikstra's Shortest-Path"
   ]
  },
  {
   "cell_type": "markdown",
   "metadata": {},
   "source": [
    "Single-Source Shortest Paths Problem:\n",
    "\n",
    "Input: directed graph G = V,E; m = edges, n = vertices.\n",
    " - Each edge has nonnegative length for each ende E. Denoted by Le. \n",
    " - Source vertex s.\n",
    " \n",
    "Output: For each vertex in V, compute L(v) = length of a shortest s-v pathi n G. Length of path = sum of edge lengths. \n",
    " \n",
    "Assumptions:\n",
    "  - For convenience, every v can be reached from s. For example, can pre-process to find v that can be reached from s, delete irrelevant ones and begin Djikstra's. For all v in V, there exists s -> v path\n",
    "  - By necessity, all edge lengths must be non-negative. Without this, Djikstra's wouldnt be legit.\n",
    "\n",
    "Basically, take s. For all v in V (including s), return shortest distances. Example output, can be a list of ints. \n",
    "\n",
    "Why care about negatives? Edges are abstract. When viewing decisions as graphs, decisions can have negative outcomes for example. "
   ]
  },
  {
   "cell_type": "markdown",
   "metadata": {},
   "source": [
    "Question: Doesn't BFS lready compute shortest paths in linear time? BUT, it only applies for if all lengths for edges are equal to one. This is more general. \n",
    " - Note, could replace each edge e by directed path of Le unit length edges. That is, if an edge length = 3, instead put in 3 edges of length 1. Then, run BFS. Works w/small numbers, but numbers can be very long. \n",
    " - EX: For roads, edges can have drastically different weights. Will blow up size of the graph too much if done so, even if it is an accurate representation. Thus, look to Dijkstra's. "
   ]
  },
  {
   "cell_type": "markdown",
   "metadata": {},
   "source": [
    "## Dijkstra's Algorithm"
   ]
  },
  {
   "cell_type": "markdown",
   "metadata": {},
   "source": [
    "Initialize: (Note, very similar to BFS)\n",
    " - X = {s}, vertices processed so far i.e. shortest path found, beginning with s\n",
    " - A[s] = 0, computed shortest path distances. Array to contain path distances for each vertex, s to s is 0\n",
    " - B[s] = empty path computed shortest paths, s to s is an empty path. No edges.\n",
    "     - Not done for real implementation, just bookkeeping for understanding\n",
    "     \n",
    "Idea is to grow X by one vertex per iteration, eventually covering all vertices in G"
   ]
  },
  {
   "cell_type": "markdown",
   "metadata": {},
   "source": [
    "Main Loop:\n",
    " - while X != V: (While X does not have entire set of vertices, will grow X by one v per loop). Think of as 2 cuts. X and V-X\n",
    "     - Interested in crossing edges going from X to V-X i.e. tail in X, head in V-X\n",
    "     - among all edges (v,w) with v in X, w not in X (aka V-X), pick the one that minimizes A[v] + Length v->w (Dijkstra's greedy criterion.\n",
    "         - Call this edge v*w*. EX: if multiple v go to w, pick v with shortest path. Gets both shortest path from s to w* and actual path to w*\n",
    "         - Add w* to X\n",
    "         - Set A[w*] = Val of Greedy Criterion above\n",
    "         - Remember: A[v*] already computed. \n",
    "         - Set B[w*] = B[v*] + (v*,w*)"
   ]
  },
  {
   "cell_type": "markdown",
   "metadata": {},
   "source": [
    "### Correctness:"
   ]
  },
  {
   "cell_type": "markdown",
   "metadata": {},
   "source": [
    "Theorem: For every directed graph with non-neative edge lengths, Dijkstra's algorithm correctly computes all shortest-path distances [i.e. A[v] = L(v), true shortest path].\n",
    "\n",
    "Proof: By induction on the number of iterations. Given earlier shortest paths all true, it remains true for the current interation.\n",
    "\n",
    "Base Case: A[s] = L[s] = 0, correct of course and fairly trivially correct."
   ]
  },
  {
   "cell_type": "markdown",
   "metadata": {},
   "source": [
    "Inductive Step: \n",
    " - Inductive Hypothesis: all previous interations are correct i.e. for all v in X, A[v] = L(v) and B[v] is a true shortest path from s -> v in G. \n",
    " - In Current interations: pick an edge (v*, w*) and we add w* to X. We set B[w*] = B[v*] + (v*, w*) (previous path to v + v->w). \n",
    "     - Based on hypothesis, B[v*] is shortest path with length L(v*). \n",
    "     - B[w*] has length L(v*) + length (v*, w*)\n",
    "     - Also, A[w*] = A[v*] + length (v*, w*) = L(v*) + length (v*, w*)\n",
    " - Upshot: In current iterations, we set:\n",
    "     - 1. A[w*] = L[v*] + l(v*,w*)\n",
    "     - 2. B[w*] = an s->w* with length of A[w*].\n",
    " - Must show that every s -> w* path has length >= L(v*) + l(v*, w*). If so, our path is the shortest. \n",
    " - Let P = any s -> w* path. Begins in X (s) and head is not in X (w*). Aka, must \"cross the frontier\"\n",
    "     - So has the form, s -> y -> z -> w*; y in X, z not in X. Can cross between cuts multiple times. \n",
    "     - z first vertex seen outside of X, y last vertex before first exiting X. z could be w*\n",
    "     - z -> w >= 0 in length bc no negative edge lengths\n",
    "     - y -> z = l(y,z)\n",
    "     - s -> y >= length of shortest s->y path = L(y) = A[y] by inductive hypothesis. \n",
    "     - Total length of P >= A[y] + l(y,z); y in X, z not in X\n",
    "         - Dijkstra's greedy criterion selects some v not in X with lowest length. Thus, (y,z) is a criterion to add to X. \n",
    "         - By Dijkstra's greedy criterion, A[v*] + l{v*, w*) <= A[y] + l(y,z) which is length of P. Chooses min? Thus true. "
   ]
  },
  {
   "cell_type": "markdown",
   "metadata": {},
   "source": [
    "### Heaps"
   ]
  },
  {
   "cell_type": "markdown",
   "metadata": {},
   "source": [
    "Data Structures:\n",
    " - Objective is to organize data so that it can be accessed quickly and usefully. \n",
    " - EX: lists, stacks ,queues, heaps, search trees, hashtables, bloom filters, union-find, etc.\n",
    " - So many because different data strutures support different sets of operations. \n",
    " - Generally, fewer operations a daata structure supports, the faster it will be and smaller space overhead\n",
    " - Rule of Thumb: Choose minimal data structure that supports all needed operations\n",
    " \n",
    "Levels of Data Structs:\n",
    " - Level 0 - no knowledge of data structure\n",
    " - Level 1 - \"cocktail party\" awareness, heard of basic structs and operations, cannot actually use \n",
    " - Level 2 - Comfortable using structures in own programs, know which ones good for which programs. Can use. \n",
    " - Level 3 - Understands internals of data strutures, how coded up, implemented, not just how they are used. Personally writes them.\n",
    " - Focus on being up to Level 2, operations supported and uses for such. "
   ]
  },
  {
   "cell_type": "markdown",
   "metadata": {},
   "source": [
    "**Heap Operations and Applications:**\n",
    "\n",
    "Supported Operations:\n",
    " - A container for objects that have keys\n",
    "     - Can compare keys, say any one is larger or smaller than other. For EX: employee records, key is SSN; event, time of event (key); etc. \n",
    " - Operations:\n",
    "     - Insert - add a new object to a heap\n",
    "         - Runningtime: O(logn)\n",
    "     - ExtractMin - remove an object in heap with a minimum key value. Allow ties (equally easy with or without), if have duplicate min key values, just get one of them that has tie for minimum key value, ties broken arbitrarily\n",
    "         - Can also do ExtractMax either by reimplementation to order by max or by negating all key values and ExtractMin on that inverted key-value heap. Does one or the other. \n",
    "         - Runningtime: O(logn); n = # of objects in heap. Runs log base 2 w/v small constants. \n",
    "     - Also: Heapify (n batched Inserts in O(n) time, creates heap). Delete(O(logn) time), deletes from middle of heap\n",
    "  "
   ]
  },
  {
   "cell_type": "markdown",
   "metadata": {},
   "source": [
    "Applications: Sorting\n",
    " - Canonical use: if notice program is using repeated minimum computations, esp via exhaustive search. Fast way to do repeated minimum computations.\n",
    " - Example: SelectionSort (scan through array n times, each time placing smallest element found into new array. O(n^2) run)\n",
    "     - HeapSort - done with heap data structure. Insert all elements from array into the heap, then extract minimum one by one. Runs Insert and Extract mine n times each, so 2n runs. Each one is O(logn). So, Heapsort is O(nlogn) time. Good mod of SelectionSort. This is optimal for a \"comparison-based\" sorting algorithm. Dope af. "
   ]
  },
  {
   "cell_type": "markdown",
   "metadata": {},
   "source": [
    "Application: Event Manager\n",
    " - \"Priority Queue\" - synonym for a heap. \n",
    " - EX: Write a program for a simluation of real world (e.g. for a video game)\n",
    " - Objects = event records (action/update to occur at given time in future)\n",
    " - Key = time event is scheduled to occur\n",
    " - Extract-Min -> yields time of the next scheduled event each time. Nice. "
   ]
  },
  {
   "cell_type": "markdown",
   "metadata": {},
   "source": [
    "Application: Median Maintanence:\n",
    " - Given a sequence, x1, x2...xn of numbers one by one. Tell, at each time step i, the median of x1, x2...xi. \n",
    " - Constraint: Don't do linear selection algorithm each time. Use O(logi) time at each step i. \n",
    " - Use 2 heaps:\n",
    "     - Hlow - supports ExtractMax - lowest half of numbers in here\n",
    "     - Hhigh - supports ExtractMin - largest half of numbers in here, these 2 are invariants\n",
    "     - Must show can maintain invariant with O(logi) work in step i. Must also show that this invariant allows solving of problem. \n",
    "     - Maintain Invariant: Consider have 20 numbers so far, properly sorte\n",
    "         - Max of Hlow is 10th order stat. Min of Hhigh is 11th order stat. \n",
    "         - 21st element comes in, which heap to put into? If smaller than 10th stat, put in low heap. If bigger than 11th stat, put in high heap. If between, doesn't matter which one it goes in since is new median. Lets say put into low heap\n",
    "         - If 22nd element comes in, also goes into low heap, low has 12 and high has 10. Extract max of low-heap and put into high-heap. Rebalances them. These use constant number of heap operations, logi work. \n",
    "         - Median is either max of low-heap and/or min of high-heap. If i is even, both are medians. If i is odd, whichever heap has one more element than other has the median."
   ]
  },
  {
   "cell_type": "markdown",
   "metadata": {},
   "source": [
    "Application: Speeding Up Dijkstra:\n",
    " - Naive implementation in O(nm) time. n iterations, m work per iteration (linear scan through edges for minimum). \n",
    " - Use heap for this. Instead then, runtime = O(mlogn). See below."
   ]
  },
  {
   "cell_type": "markdown",
   "metadata": {},
   "source": [
    "#### Heap Implementation"
   ]
  },
  {
   "cell_type": "markdown",
   "metadata": {},
   "source": [
    "Heap Property:\n",
    " - Conceptually: heap as a tree. Rooted (has a root, level 0 = 1 node basically), binary (each each node has zero, one, or two children), as complete as possible\n",
    "     - Complete means, if let's say only 2 nodes on Level 3 (8 spots), then nodes are pushed to very left\n",
    " - At every node x, key[x] <= all keys of x's children. So, at top of tree, smallest key. X can have 0 children (leaf), can have 1 or 2 children. \n",
    "     - Heaps can be reordered however as long as this property is maintained. \n",
    " - Consequence: object at root must have minimum key value.\n",
    " \n",
    "Heaps not actually implemented as tree. Usually as an array\n",
    "\n",
    "Array Implementation:\n",
    " - Think of heap as levels with Level 0 = Roote\n",
    " - Plug heap into array by level from left to right. \n",
    " - Parent(i) = i/2 if i even, i//2 if i odd (round down to integer); find parent of value at i. This is for index from 1 to n.\n",
    " - Children of i are at 2i, 2i+1. \n",
    " - Easier bc no need to traverse pointers, instead just do these trivial calculations. Do not need any overhead since objects stored directly in an array. No need for traversing pointers either. Fast and space efficient. \n",
    " \n",
    "Insert and Bubble-Up: (given key k), assume a MinHeap rn where Min is at top. \n",
    " - Place k at next possible leaf, right-most leaf on bottom level right next to other leaf. (In array, put at end of array).\n",
    " - If k greater than parent, done. No problem. \n",
    " - If k less than parent, problem: Begin \"Bubble-Up\" (aka Sift Up, Heapify Up, and more)\n",
    "     - Swap position of k and its parent.\n",
    "     - If still problem, swap k with its new parent. Continue until heap property fixed. \n",
    "     - Note, these swappings will never mess up the existing parent-child relations. Pushing k up the tree can only have one possible issue involving k, others will stil lbe fine. \n",
    " - Check bubbling up process must stop with heap property restored. \n",
    " - Worst case, runs thorugh all logbase2(n) levels. Each bubble-up is constant time. So, total O(logn) insert at worst. \n",
    " \n",
    "Extract-Min and Bubble-Down:\n",
    " - Extract root\n",
    " - Take last leaf (last element of array) and move it to the front. This maintains tree *structure* BUT heap structure fucked. \n",
    " - When pushing a node down though, can have 2 options; left child or right child. (Bubble-Down) \n",
    "     - Choose the smaller of the two. Else, will create another problem in heap structure. \n",
    "     - Repeat until Heap structure maintained\n",
    " - Will not create more issues if choosing min, maintains previous heap relations\n",
    " - Check that process must stop with heap property restored, only buble-down once per level. \n",
    " - Check that run-time = O(logn). Runs through logn layers, constant work each. \n",
    " "
   ]
  },
  {
   "cell_type": "markdown",
   "metadata": {},
   "source": [
    "### Dijkstra Implementation and Running Time"
   ]
  },
  {
   "cell_type": "markdown",
   "metadata": {},
   "source": [
    "Without head data structure, Dijkstra's runs in Theta(m * n). Main while loop runs through n-1 iteratiosn of loop (each iteration adds 1 vert to X), within each loop, naive linear scan through all edges. Theta(1) work per edge, constant time per edge. Can do better with heap data structure"
   ]
  },
  {
   "cell_type": "markdown",
   "metadata": {},
   "source": [
    "How do we know to use heap? Doing minimum computations over and over again. Heap data structure is designed for that. Performs Insert, Extract-Min in O(logn) time. \n",
    "\n",
    "Heap:\n",
    " - Conceptually, a perfectly balanced binary tree (even though usually laid out as array)\n",
    " - Heap Property: at every node, key <= children's keys. Smallest key of all has to be at root of tree.\n",
    " - Extract-Min by swapping up last leaf, bubbling down.\n",
    " - Insert via bubbling up. \n",
    " - Will need ability to delete from middle of heap (bubble up or down as needed). \n",
    "\n",
    "Two Invariants:\n",
    " - 1. Elements in heap = vertices of V-X. Remember, Dijkstra cares about vertices, edges are merely used to identify vertices. \n",
    "     - Recall, basic Djikstra searches through all edges from X to V-X, computes Greedy Score for each edge. \n",
    " - 2. For v in X, key[v] = smallest greedy Dijkstra score of an edge (u, v) with v not in in X. i.e. edge from X to V-X.\n",
    "     - For a unique vertex v with only 1 edge going to it, merely the length (u,v)\n",
    "     - For a v with no such edges, key = +inf\n",
    "     - Basically 2 round tournament:\n",
    "         - Each vertex not in X runs local tournament. Sees lengths of edges w/heads as v, picks smallest length and saves as key. \n",
    "         - Larger tournament, heap Extract Min yields vertex w* to add to X. Exact one we want. \n",
    "         - nd we set A[w*] to key[w*] by invariant 2. "
   ]
  },
  {
   "cell_type": "markdown",
   "metadata": {},
   "source": [
    "Mintaining the Invariants:\n",
    " - To Maintain Invariant 2 (for all v not in X, Key[v] = smallest Dijkstra greedy score at edge (u,v) with u in X):\n",
    "     - When adding a new vertex w to X, the crossing edges will change. Namely, ones going to w from X are gone, ones going from w to others in V-X are added. \n",
    "     - Thus, vertices for those still in heap (V-X) have different keys (Greedy Scores). Need to update keys bc new frontiers.\n",
    "     - However, damage is local. Update keys of vertices at the head of edges that stick out of w. \n",
    "     - For each edge (w,v) in Edges:\n",
    "         - if v in V-X (i.e. in heap):\n",
    "             - Remove v from heap\n",
    "             - Recompute Key[v] = min {key[v], A[w] + l(w,v) other new Greedy Score}. Can only be old key value or new key value from (w,v).\n",
    "             - re-Insert v into Loop. These 3 lines are key-update. \n",
    "             \n",
    "Check: \n",
    " - Work is dominated by heap API (aka heap operations, Ologn each)\n",
    " - n-1 Extract Mins. n-1 iterations of while loop \n",
    " - Each edge (v,w) triggers at most one Delete/Insert combo (if v added to X first). \n",
    "     - However, if w absorbed into X first (i.e. the head), will trigger 0 Delete/Insert combos)\n",
    " - So # of heap operations is O(n + m); Extract Mins and Delete/Insert combo\n",
    "     - O(n + m) = O(m) because asusming there is a path from s to every other vertex. Graph at least weakly connected. N dominates M, so M is always as big as N + 1. M dominates N, so O(n+m) = O(m). M can be up to N^2, but supports O(n+m) = O(n)\n",
    " - So, total is O(mlogn). Pretty good constants in here too. V fast algorithm. "
   ]
  }
 ],
 "metadata": {
  "kernelspec": {
   "display_name": "Python 3",
   "language": "python",
   "name": "python3"
  },
  "language_info": {
   "codemirror_mode": {
    "name": "ipython",
    "version": 3
   },
   "file_extension": ".py",
   "mimetype": "text/x-python",
   "name": "python",
   "nbconvert_exporter": "python",
   "pygments_lexer": "ipython3",
   "version": "3.7.6"
  }
 },
 "nbformat": 4,
 "nbformat_minor": 4
}
