{
 "cells": [
  {
   "cell_type": "markdown",
   "metadata": {},
   "source": [
    "# Graphs and the Contraction Algorithm"
   ]
  },
  {
   "cell_type": "markdown",
   "metadata": {},
   "source": [
    "More practice with randomized algorithms and introduction to graphs and graph algorithms"
   ]
  },
  {
   "cell_type": "markdown",
   "metadata": {},
   "source": [
    "### Graphs and Minimum Cuts"
   ]
  },
  {
   "cell_type": "markdown",
   "metadata": {},
   "source": [
    "Fundamentally, graphs represent pair-wise relationships among a set of objects.\n",
    "\n",
    "2 Ingredients:\n",
    " - Vertices (vertex singular), also known as nodes. Notation is (V) for set of nodes\n",
    " - edges (E) = pairs of vertices\n",
    "    - Can be undirected - (unordered pair) No head or tail.\n",
    "    - Can be directed - ordered. Head and tail vertices. Directed edges also called arcs. Drawn with arrow at head \n",
    " - Basically, points and lines \n",
    " - Examples: Road networks, the Web (internet, vertices are webpages, edges are hyperlinks), social networks, precedence constraints (such as thinking abt a major, what courses to take in what order. Each course is a vertex, directed edge from course A to B if A is a pre-req)\n",
    "\n",
    "Cuts of Graphs - a grouping of the vertices of the graph(V,E) into two groups. Both groups sould be non empty. Edges can have both endpoints in A, both in B, or one in A one in B. \n",
    "\n",
    "The crossing edges of a cut(A,B) are those that satisfy:\n",
    " - One endpoint is in each of (A,B) [undirected]\n",
    " - Tail in A, head in B [directed].\n",
    "    - Usually ignore edges that go from B to A (or left to right)\n",
    "\n",
    "A graph with n vertices roughly has 2^n cuts. Each vertex can be in A or B, 2 choices. Exactly is 2^n - 2 since cuts cannot  be empty."
   ]
  },
  {
   "cell_type": "markdown",
   "metadata": {},
   "source": [
    "Minimum Cut Problem:\n",
    " - Input an undirected graph G = (V,E)\n",
    " - Parallel Edges (two edges that correspond to same pair of vertices) allowed\n",
    " - Compute a cut with the fewest number of crossing edges (a min cut)\n",
    "\n",
    "Part of Graph-Partitioning problems. \n",
    " - Min-Cuts can be used to identify weaknesses in a physical network. \n",
    " - Used in community detection for Social Networks too (identify users with many dense connections to one another but weakly connected to other pockets of graph). \n",
    " - Image Segmentation. Input = graph of pixels. Use edge weights to identify main items in a picture"
   ]
  },
  {
   "cell_type": "markdown",
   "metadata": {},
   "source": [
    "### Graph Representation in Code"
   ]
  },
  {
   "cell_type": "markdown",
   "metadata": {},
   "source": [
    "2 Prameters for a graph: n vertices and m edges. \n",
    "\n",
    "Consider m as a function of n. n - 1 <= m <= n(n-1)/2 aka nChoose2\n",
    "\n",
    "Sparse vs. Dense Graphs:\n",
    " - Let n = # of vertices, m = # of edges\n",
    " - In most applications, m is at least linear in n (Omega(n)) and at most quadratic in n (O(n^2)) if no parallel edges \n",
    " - Sparse: m is O(n) or close to it, both definitions pretty loose\n",
    " - Dense: m is closer to O(n^2) "
   ]
  },
  {
   "cell_type": "markdown",
   "metadata": {},
   "source": [
    "Adjacency Matrix: \n",
    " - Represent graph by a nxn binary matrix A where:\n",
    " - Aij = 1 if G has an i-j edge. \n",
    " - Variants\n",
    "     - Aij = # of i-j edges (if parallel edges)\n",
    "     - Aij = weight of i-j edges if any \n",
    "     - Aij = 1 if i to j, -1 if j to i \n",
    " - Requires space in Theta(n^2) independent of number of edges usually. \n",
    " - Wasteful for sparse graphs"
   ]
  },
  {
   "cell_type": "markdown",
   "metadata": {},
   "source": [
    "Adjacency List:\n",
    " - Main one used in this \n",
    " - array of vertices, array of edges; each space is Theta(n) and Theta(m) respectively\n",
    " - each edge points to its endpoints, 2 pointers to vertex List (can keep track of head and tail); Theta(m) constant 2 per edge\n",
    " - each vertex points to edges for which it is a member; \n",
    "    - for directed, generally keep track of edges for which it is a tail\n",
    "    - One to one correspondence in 3rd requirement above, so space is also Theta(m)\n",
    " = Requires space in Theta(m + n) or Theta(max(m,n)) bc these 2 are same up to a constant factor"
   ]
  },
  {
   "cell_type": "markdown",
   "metadata": {},
   "source": [
    "Choosing between two depends on graph density and operations/applications needed. For this class, will be focusing on Adjacency Lists. For us, mostly graph search, so adjacency lists are very good with this. Motivations for graph primitives are often massive networks nowadays with some crazy shit like 10bil vertices. "
   ]
  },
  {
   "cell_type": "markdown",
   "metadata": {},
   "source": [
    "## Random Contraction Algorithm"
   ]
  },
  {
   "cell_type": "markdown",
   "metadata": {},
   "source": [
    "Done to solve minimum cut problem with parallel edges allowed. \n",
    "\n",
    "While there are more than 2 vertices: \n",
    " - pick a remaining edge (u,v) uniformly at random with vertex u and vertex v \n",
    " - merge (or \"contract\") u and v into a single vertex which may reate parallel edges\n",
    " - remove self-loop (endpoints are the same)\n",
    "Return cut represented by 2 final vertices when down to 2 vertices \n",
    "\n",
    "BUT, depending on random choices, this is not 100% correct. What is the probability it gets the correect answer?"
   ]
  },
  {
   "cell_type": "markdown",
   "metadata": {},
   "source": [
    "Probability of Success:\n",
    " - Suppose cuts A, B are desired min cuts. Only output of A, B is considered a success even if multiple min cuts exist.\n",
    " - k # of crossing edges for A,B, call edges F  \n",
    " - Fix graph G = (V,E) with n vertices and m edges.\n",
    " - 2 Ideas:\n",
    "    - If contraction ever contracts an edge in F, output will not be (A,B) and thus fails\n",
    "    - If contraction never contracts an edge in F, output *will* be (A,B) and thus succeeds\n",
    " - So, P(output is A,B) = P(never contracts an edge in F)\n",
    " - Think about each iteration in isolation "
   ]
  },
  {
   "cell_type": "markdown",
   "metadata": {},
   "source": [
    "Let Si = event that an edge of F is contracted in interation i. \n",
    "\n",
    "First iteration: Si = k/m. Want m in terms of vertices though since vertices dec by 1 each iteration. \n",
    "\n",
    "Degree (# of instanced edges) of each vertex is at least k since each v can be cut on its own. So, Sum(degree(v)) = 2m >= kn. m >= kn/2.\n",
    "\n",
    "So, for iteration 1, S1 = k/m <= 2/n.\n",
    "\n",
    "For first 2 iterations, Pr(not S1 and not S2) = Pr(not S1) * Pr(not S2|not S1)\n",
    "Pr(not S2|not S1) = 1 - k/remaining edgs. Same reasoning as above though. Remaining edges >= k(n-1)/2 \n",
    "\n",
    "So, Pr(not S2|not S1) >= 1-(2/n-1).\n",
    "\n",
    "In General: Pr(not Si for all i in range(1 to n-2) inclusive) >= (1-2/n) (1-2/n-1) ... (1-2/(n-(n-3)) = 2/(n(n-1)) >= 1/n^2"
   ]
  },
  {
   "cell_type": "markdown",
   "metadata": {},
   "source": [
    "Success rate for one run of algorithm is shit. But, run it a large number N times and remember the smallest cut. If run N = n^2lnn times, obtain success rate of 1-1/n. "
   ]
  },
  {
   "cell_type": "markdown",
   "metadata": {},
   "source": [
    "## The Number of Minimum Cuts"
   ]
  },
  {
   "cell_type": "markdown",
   "metadata": {},
   "source": [
    "A graph can have multiple min cuts. e.g. a tree with n vertices can have n-1 min cuts. \n",
    "\n",
    "Question: What's the largest number of min cuts that a graph with n vertices can have? \n",
    "\n",
    "Answer: nChoose2 = n(n-1)/2"
   ]
  }
 ],
 "metadata": {
  "language_info": {
   "codemirror_mode": {
    "name": "ipython",
    "version": 3
   },
   "file_extension": ".py",
   "mimetype": "text/x-python",
   "name": "python",
   "nbconvert_exporter": "python",
   "pygments_lexer": "ipython3",
   "version": 3
  },
  "orig_nbformat": 2
 },
 "nbformat": 4,
 "nbformat_minor": 2
}