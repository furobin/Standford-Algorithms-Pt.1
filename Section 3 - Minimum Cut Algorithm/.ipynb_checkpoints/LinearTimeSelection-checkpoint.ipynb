{
 "cells": [
  {
   "cell_type": "markdown",
   "metadata": {},
   "source": [
    "# Linear-Time Selection f"
   ]
  },
  {
   "cell_type": "markdown",
   "metadata": {},
   "source": [
    "Key Idea: Compute ith smallest element of an input array. Can solve with better than nlogn time. "
   ]
  },
  {
   "cell_type": "markdown",
   "metadata": {},
   "source": [
    "## Randomized Selection"
   ]
  },
  {
   "cell_type": "markdown",
   "metadata": {},
   "source": [
    "Input: array A with n distinct numbers and a number i <= n. \n",
    "Output: ith order statistic i.e. ith smallest elemnt of input array.\n",
    "\n",
    "i = 1 is smallest, i = n is largest, both can be done with a linear scan v easy\n",
    "i = n+1/2 for n odd, n/2 for even, finds median\n",
    "\n",
    "Can consider algorithm to work if array has duplicte elements."
   ]
  },
  {
   "cell_type": "markdown",
   "metadata": {},
   "source": [
    "O(nlogn) algorithm:\n",
    " - Apply MergeSort to sort the array (or any nlogn sorting)\n",
    " - Return ith element of sorted array. Easy shit.\n",
    "\n",
    "This is a reduction - solve one problem by reducing it to another problem we already know how to solve.\n",
    "Can do better than this though.\n",
    "\n",
    "Note: Cannot sort an array of length n any better than nlogn. Will be explained more later."
   ]
  },
  {
   "cell_type": "markdown",
   "metadata": {},
   "source": [
    "Will not be able to do better than linear since will need to look at all elements in the input array at the worst case. Must prove selection is easier than sorting to beat O(nlogn)"
   ]
  },
  {
   "cell_type": "markdown",
   "metadata": {},
   "source": [
    "O(n) time  randomized using a modification of QuickSort. Note, there is an analog to merge sort that does not use randomization (aka deterministic algorithm) but more complicated. Implement the random one though bc more practical, works in place with smaller constants in O(n)"
   ]
  },
  {
   "cell_type": "markdown",
   "metadata": {},
   "source": [
    "Review of Partition:\n",
    " - Partition around a pivot element.\n",
    " - Picks pivot element, rearranges array so that left of pivot is smaller, right of pivot is greater. Order jumbled\n",
    " - Puts pivot in its rightful position.\n",
    "\n",
    "Modification example:\n",
    "Looking for 5th order statistic in input of length 10. Partition an array, pivot ends up in 3rd position of partitioned array. Only need to look on right side of the pivot for the 2nd order statistic in that side. "
   ]
  },
  {
   "cell_type": "markdown",
   "metadata": {},
   "source": [
    "RSelect(array A, length n, order statistic i)\n",
    " - if n = 1, return A[1]\n",
    " - choose pivot from A (uniformly at random from n possibilities)\n",
    " - partition A around pivot\n",
    " - Let j be order statistic of pivot \n",
    " - if j = i, return pivot \n",
    " - if j < i, RSelect(right array, length (will be n - j), order statistic i - j)\n",
    " - if j > i, RSelect(left array, length (will be j - 1), order statistic i) <- no change to i in this case\n",
    "\n",
    " "
   ]
  },
  {
   "cell_type": "markdown",
   "metadata": {},
   "source": [
    "Correctness Claim: RSelect is correct (guaranteed to output ith order statistic)\n",
    "Proof: by induction, similar to QuickSort correctness. Review.\n",
    "\n",
    "Running Time depends on \"quality\" of chosen pivots. Worst case: O(n^2) but this is ridiculously unlucky. Key: good pivots make sure that no subproblem is too big/small, more balanced splits are better. Best case: always choose median for pivot. \n",
    "\n",
    "Best Case choosing median: T(n) = T(n/2) + O(n). Master Method, best case is T(n) = O(n).\n",
    "\n",
    "Hope: Random pivot is pretty good often enough to achieve this. "
   ]
  },
  {
   "cell_type": "markdown",
   "metadata": {},
   "source": [
    "RSelect Theorem: for every input array of length n, the average running time of RSelect is O(n). Works for every input in that there are no assumptions about the data. Randomness is entirely in the algorithm. "
   ]
  },
  {
   "cell_type": "markdown",
   "metadata": {},
   "source": [
    "## Deterministic Selection Algorithm"
   ]
  },
  {
   "cell_type": "markdown",
   "metadata": {},
   "source": [
    "No randomization involved. Can run O(n) in the worst case for every input array. On average, also gets O(n). Not as good as randomized one."
   ]
  },
  {
   "cell_type": "markdown",
   "metadata": {},
   "source": [
    "Use concept of \"median of medians\" since median would be the best pivot to split. Find pivot guaranteed to be pretty good. "
   ]
  },
  {
   "cell_type": "markdown",
   "metadata": {},
   "source": [
    "ChoosePivot(A,n):\n",
    " - logically break A into n/5 groups of size 5 each\n",
    " - sort each group (such as using MergeSort)\n",
    " - copy n/5 medians from each group into new array C (of size n/5)\n",
    " - recursively compute median of C \n",
    " - return this median as pivot"
   ]
  },
  {
   "cell_type": "markdown",
   "metadata": {},
   "source": [
    "DSelect(array A, length n, order stat i):\n",
    " - Break A into groups of 5, sort each groups\n",
    " - C = n/5 (the middle elements)\n",
    " - p = DSelect(C, n/5, n/10) computes median of C \n",
    " - Partition A around p \n",
    " - if j = i, return p \n",
    " - if j < i, return DSelect(1st part of A, j-1, i) \n",
    " - else if j > i, return DSelect(2nd part of A)\n",
    "\n",
    "2 Recursive Calls: One for line 3, one for 6 or 7."
   ]
  },
  {
   "cell_type": "markdown",
   "metadata": {},
   "source": [
    "Think about DSelect on high level. 2 recursive calls on increasingly smaller subproblems. Will definitely terminate, similar to MergeSort. \n",
    "\n",
    "For every input of length n, DSelect runs in O(n). Not as good as RSelect in practice bc worse constants and not-in-place.\n",
    "\n"
   ]
  },
  {
   "cell_type": "markdown",
   "metadata": {},
   "source": [
    "## Omega(nlogn) Lower Bound for Comparison-Based Sorting"
   ]
  },
  {
   "cell_type": "markdown",
   "metadata": {},
   "source": [
    "Theorem: Every \"comparison-based\" sorting algorithm has worst-case running time Omega(nlogn)\n",
    "\n",
    "Assume deterministic but lower bound extends to randomized"
   ]
  },
  {
   "cell_type": "markdown",
   "metadata": {},
   "source": [
    "Comparison-Based Sort: accesses elements of input array onnly via comparisons, never direect manipulation on a single array element. \"General-purpose sorting method\" with no assumptions about the data. Cannot do bucketing techniques.\n",
    "\n",
    "Examples: MergeSort, QuickSort, HeapSort\n",
    "\n",
    "NonExamples: BucketSort (used when has distributional assumption on data, looks at elements individually), CountingSort, RadixSort\n",
    "In NonExamples with assumptions about data, there is no nlogn lower bound."
   ]
  },
  {
   "cell_type": "markdown",
   "metadata": {},
   "source": [
    "Proof Idea:\n",
    " - Fix a comparison-based sorting method and an array length n\n",
    " - Consider input arrays containing (1,2,3,...n) in some order\n",
    " - n! different orderings of these arrays, many diff choices for inputs \n",
    " - Suppose algorithm always makes <= k comparisons to correctly sort these n! inputs \n",
    " - Across all n! possible inputs, algorithm exhibits <= 2^k distinct executions i.e. resolution of the comparisons"
   ]
  },
  {
   "cell_type": "markdown",
   "metadata": {},
   "source": [
    "Pigeonhole Principle: \n",
    " - If stuff k+1 pigeons into k pigeonholes, at least one hole gets 2 pigeons. \n",
    " - Pigeons = n! inputs\n",
    " - Holes = 2^k distinct executions\n",
    " - If 2^k < n! inputs, then two different inputs get treated at the exact same way by sorting method. If this happens, the algorithm is not correct. Gets 2 different inputs and unable to resolve. If outputs correctly sorted output in one case, will get the other case (treated the same way) incorrectly. \n",
    " - By correctlness, 2^k >= n!, product of n things, \n",
    " - 2^k >= (n/2)^(n/2)"
   ]
  }
 ],
 "metadata": {
  "kernelspec": {
   "display_name": "Python 3",
   "language": "python",
   "name": "python3"
  },
  "language_info": {
   "codemirror_mode": {
    "name": "ipython",
    "version": 3
   },
   "file_extension": ".py",
   "mimetype": "text/x-python",
   "name": "python",
   "nbconvert_exporter": "python",
   "pygments_lexer": "ipython3",
   "version": "3.7.6"
  }
 },
 "nbformat": 4,
 "nbformat_minor": 2
}
