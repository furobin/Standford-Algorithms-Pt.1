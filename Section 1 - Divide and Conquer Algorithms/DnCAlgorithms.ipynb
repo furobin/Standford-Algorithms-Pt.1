{
 "cells": [
  {
   "cell_type": "markdown",
   "metadata": {},
   "source": [
    "# Divide and Conquer Algorithms"
   ]
  },
  {
   "cell_type": "markdown",
   "metadata": {},
   "source": [
    "## O(nlogn) Algorithm for Counting Inversions"
   ]
  },
  {
   "cell_type": "markdown",
   "metadata": {},
   "source": [
    "Steps:\n",
    " - Divide into smaller subproblems (sometimes just a mental cosideration)\n",
    " - Conquer via recursive calls\n",
    " - Combine solutiosn of subproblems into one for the original problem"
   ]
  },
  {
   "cell_type": "markdown",
   "metadata": {},
   "source": [
    "Inversion Problem - Array A containing the numbers 1,2,3,4...n in some arbitrary order. Compute the number of inversions (pair of array indeces with i<j such that the earlier entry is bigger than the next A[i] > A[j]).\n",
    "\n",
    "Example: 1,3,5,2,4,6\n",
    "Inversions: (3,2) (5,2) (5,4)\n",
    "\n",
    "Can be used to compute numerical similarity between two ranked lists."
   ]
  },
  {
   "cell_type": "markdown",
   "metadata": {},
   "source": [
    "Brute-force: use two for loops, O(n^2) time. Can do much better.\n",
    "\n",
    "Divide and Conquer\n",
    "Can call an inversion (i,j) with i<j:\n",
    " - Left if i,J <= n/2 on first half of array\n",
    " - Right if i,j >= n/2 on second half of array\n",
    " - Split if i <= n/2 < j  <- need separate subroutine for these"
   ]
  },
  {
   "cell_type": "markdown",
   "metadata": {},
   "source": [
    "High-Level Algorithm\n",
    "Count(Array A, Length N)\n",
    "\n",
    "if n=1, return 0\n",
    "\n",
    "else\n",
    "\n",
    "    x = count(1st half)\n",
    "\n",
    "    y = count(2nd half)\n",
    "\n",
    "    z = countsplits(A,n)\n",
    "\n",
    "return x + y + z\n",
    "\n",
    "Goal: implement CountSplitInv in linear O(n)) time then count will run in O(nlogn) time."
   ]
  },
  {
   "cell_type": "markdown",
   "metadata": {},
   "source": [
    "Have recursive calls both count inversions and sort the array at the same time, piggyback on MergeSort. Merge subroutine natrually uncovers split inversions. New algorithm will be using SortAndCount for x and y. CountSplitInv will be responsible for outputting sorted version of A. z = MergeCountSplit."
   ]
  },
  {
   "cell_type": "markdown",
   "metadata": {},
   "source": [
    "The split inversions involving an element y of the 2nd array C are precisely the numbers left in the 1st array B when y is copied to the output D."
   ]
  },
  {
   "cell_type": "code",
   "execution_count": 17,
   "metadata": {},
   "outputs": [
    {
     "output_type": "stream",
     "name": "stdout",
     "text": "[1, 3, 5]\n"
    }
   ],
   "source": [
    "len(A)//2\n",
    "\n",
    "X = A[0:len(A)//2]\n",
    "print(X)"
   ]
  },
  {
   "cell_type": "code",
   "execution_count": 19,
   "metadata": {},
   "outputs": [
    {
     "output_type": "stream",
     "name": "stdout",
     "text": "3\n"
    }
   ],
   "source": [
    "A = [1,3,5,2,4,6]\n",
    "\n",
    "invs = 0\n",
    "\n",
    "def MergeCountSplit(array):\n",
    "\n",
    "    global invs\n",
    "\n",
    "    if len(array) == 1 or len(array) == 0:\n",
    "        return array\n",
    "\n",
    "    mid = len(array)//2\n",
    "    x = array[0:mid]\n",
    "    y = array[mid:]\n",
    "\n",
    "    MergeCountSplit(x)\n",
    "    MergeCountSplit(y)\n",
    "\n",
    "    i = j = k = 0\n",
    "\n",
    "    while i <= len(x) - 1 and j <= len(y) - 1:\n",
    "        if x[i] <= y[j]:\n",
    "            array[k] == x[i]\n",
    "            i += 1\n",
    "            k += 1\n",
    "        elif y[j] < x[i]:\n",
    "            array[k] == y[j]\n",
    "            j += 1\n",
    "            k += 1\n",
    "            invs += len(x) - i\n",
    "    \n",
    "    while i <= len(x) - 1:\n",
    "        array[k] == x[i]\n",
    "        i += 1\n",
    "        k += 1\n",
    "\n",
    "    while j <= len(y) - 1:\n",
    "        array[k] == y[j]\n",
    "        j += 1\n",
    "        k += 1\n",
    "\n",
    "    return array\n",
    "\n",
    "MergeCountSplit(A)\n",
    "print(invs)"
   ]
  },
  {
   "cell_type": "markdown",
   "metadata": {},
   "source": [
    "## Strassen's Subcubic Matrix Mult Algo"
   ]
  },
  {
   "cell_type": "markdown",
   "metadata": {},
   "source": [
    "Start with a big NxN matrix X, divide it into quadrants (ABCD), all over N/2 X N/2 matrices. Do the same with matrix Y, also N x N split into quads (EFGH). The products of the large matrices can be represented by products of quadrant matrices. "
   ]
  },
  {
   "cell_type": "markdown",
   "metadata": {},
   "source": [
    "Recursive Algorithm #1:\n",
    " - Compute necessary products from quadrants, a total of 8 products with 4 sums. Done recursively.\n",
    " - Do the additions of products, takes quadratic time. \n",
    " - Like brute force iterative, this is also O(n^3)"
   ]
  },
  {
   "cell_type": "markdown",
   "metadata": {},
   "source": [
    "Strassens Algorithm:\n",
    " - Recursively computes 7 cleverly chosen products\n",
    " - Do the necessary additions and subtractions. Still O(n^2) time with the additions and such.\n",
    " - This is better than cubic time, see Master Method lecture for specifics. Done by saving the 8th recursive call.\n",
    "\n",
    "Clever algorithm design can push things forward. See video for details about actual algorithm if want.  "
   ]
  },
  {
   "cell_type": "markdown",
   "metadata": {},
   "source": [
    "## O(nlogn) Algorithm for Closest Pair 1"
   ]
  },
  {
   "cell_type": "markdown",
   "metadata": {},
   "source": [
    "Focused on distance between two points, Euclidean distance (d(pi,pj)). Can have O(n^2) time if doing two for loops, calculate distnce, find shortest. Can use sorting again to beat the quadratic time complexity. "
   ]
  },
  {
   "cell_type": "markdown",
   "metadata": {},
   "source": [
    "#### Consider 1-D Version"
   ]
  },
  {
   "cell_type": "markdown",
   "metadata": {},
   "source": [
    "Points lie on a line in arbitrary order. Simply sort the points (nlogn time) then scan through points and return closes pair of adjacent points (n time). With brute-force, would be a n^2 time."
   ]
  },
  {
   "cell_type": "markdown",
   "metadata": {},
   "source": [
    "#### Back to 2-D Version."
   ]
  },
  {
   "cell_type": "markdown",
   "metadata": {},
   "source": [
    "1. Make copies of points sorted by both x coordinate and y coordinates. Sorting is basically a free primitive, keep in mind. nlogn time. However, cannot linear scan through points. \n",
    "2. Use Divide and Conquer again on the sorted arrays. "
   ]
  },
  {
   "cell_type": "markdown",
   "metadata": {},
   "source": [
    "Steps: Points P\n",
    " - Base case: 3 or less points, just brute force through\n",
    " - Q = left half of P, R = right half of P. Form Qx, Qy, Rx, Ry (based on x and y coords, takes n time)\n",
    " - (p1,q1) = closest pair (Qx, Qy)\n",
    " - (p2, q2) = closest pair (Rx, Ry) \n",
    "    - Best case, closest poitns are in either Q or R. Unlucky if closest pair is split btwn two halves. \n",
    " - (p3, q3) = closest split pair (px, py). Want to do in linear time\n",
    " - Return best of p1q1, p2q2, p3q3\n",
    "\n",
    "BUT: only need to bother computing the closest split hair in unlucky case where its distance is less than the Q or R  points. \n",
    "\n",
    "Steps: Points P\n",
    " - Base case: 3 or less points, just brute force through\n",
    " - Q = left half of P, R = right half of P. Form Qx, Qy, Rx, Ry (based on x and y coords, takes n time)\n",
    " - (p1,q1) = closest pair (Qx, Qy)\n",
    " - (p2, q2) = closest pair (Rx, Ry) \n",
    "    - Best case, closest poitns are in either Q or R. Unlucky if closest pair is split btwn two halves. \n",
    " - delta = min(two distances above)\n",
    " - (p3, q3) = closeset split pair(px, py, delta)\n",
    " - Return best of the three "
   ]
  },
  {
   "cell_type": "markdown",
   "metadata": {},
   "source": [
    "ClosestSplitPair Pseudo-Code: \n",
    " - Let x.bar be max(x-coordinate) in the left half of P. aka median\n",
    " - delta is range of x around x.bar where considered for formula. Must be (x.bar - delta, x.bar + delta) for x-coords, sorted by y-coordinate. Luckily, already sorted in prior steps. \n",
    " - initialize best = delta, best pair = null. \n",
    " - For i = 1 in sorted y - 7 from above\n",
    "    - For j in 1 to 7\n",
    "        - let piq = ith, i+jth points, calc distance\n",
    "        - If d(points above) < best, bestpair = p1q, best = distance\n",
    "In total, O(n) time bc 2nd for loop is constant. "
   ]
  }
 ],
 "metadata": {
  "language_info": {
   "codemirror_mode": {
    "name": "ipython",
    "version": 3
   },
   "file_extension": ".py",
   "mimetype": "text/x-python",
   "name": "python",
   "nbconvert_exporter": "python",
   "pygments_lexer": "ipython3",
   "version": "3.7.6-final"
  },
  "orig_nbformat": 2,
  "kernelspec": {
   "name": "python37464bitbaseconda595370dce47045e093c92b7a9216e1c8",
   "display_name": "Python 3.7.4 64-bit ('base': conda)"
  }
 },
 "nbformat": 4,
 "nbformat_minor": 2
}