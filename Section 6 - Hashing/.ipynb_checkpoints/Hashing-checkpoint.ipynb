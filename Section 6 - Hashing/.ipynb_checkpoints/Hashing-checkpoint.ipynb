{
 "cells": [
  {
   "cell_type": "markdown",
   "metadata": {},
   "source": [
    "# Hash Table: Supported Operations"
   ]
  },
  {
   "cell_type": "markdown",
   "metadata": {},
   "source": [
    "Purpose:\n",
    " - Think of like an array. An array is very good at pulling a value at a particular index. \n",
    " - Maintain a (possibly evolving) set of data (transactions, people associated with data, IP addresses, etc.)\n",
    " - Does not maintain order for its elements. \n",
    " - In Python, a Dictionary is a Hash Table \n",
    " \n",
    "Operations, all done using a \"key\":\n",
    " - Insert - add a new record\n",
    " - Delete - delete an existing record\n",
    " - Lookup - check for a particular record. Basically, give hash table a key, table returns all data associated with key\n",
    " - All Operations done in O(1), ridiculous\n",
    " - Only true for properly implemented hash tables. May have to create own hash table in the future tho lmfao. \n",
    " - Some other issues tho in that guarantee is for certain conditions \n",
    " \n",
    "Example Applications:\n",
    " - De-Duplication:\n",
    "     - Given a \"stream\" of objects (like linear scan through big file or objects are arriving in real time)\n",
    "     - Goal: remove the duplicates i.e. keep track of unique objects (like reporting unique visitors to web site)\n",
    "     - Solution: useing a hash table, when new object x arrives, lookup x in hash table. if not found, insert into table. \n",
    " - 2-Sum Problem:\n",
    "     - Given an array of n numbers and a target sum t. \n",
    "     - Goal: determine whether or not 2 numbers in array with x + y = t\n",
    "     - Solutions:\n",
    "         - Worst Naive One: Look at n Choose 2 sums, see if any matches t\n",
    "         - 2nd solution: Sort A upfront (O(nlogn) method). Given entry x, look for y such that x + y = t. Do for each number in array. Searching is O(nlogn) in sorted array remember. So, total is O(nlogn)\n",
    "     - Hash Table Solution:\n",
    "         - Note, Hash Tables speed up solutiosn that require repeated lookups. \n",
    "         - Looking above, sorted array was really just to make lookups easier. Instead of that, can Hash\n",
    "         - Insert all numbers into a hash table (linear time, O(n) total)\n",
    "         - For each element x, look for t - x in hash table (constant time for each x). Total, O(n)\n",
    " - Historical Applications: symbol tables in compilers. \n",
    " - Blocking network traffic (such as blocking a spam IP address)\n",
    " - Search ALgorithms (e.g. game tree exploration like a chess game; \n",
    "     - Use hash table to avoid exploring any configuration (e.g. arrangement of chess pieces) more than once "
   ]
  },
  {
   "cell_type": "markdown",
   "metadata": {},
   "source": [
    "# Implementation Details:"
   ]
  },
  {
   "cell_type": "markdown",
   "metadata": {},
   "source": [
    "## High-Level Idea:"
   ]
  },
  {
   "cell_type": "markdown",
   "metadata": {},
   "source": [
    "Setup: Identify the universe U (e.g. all IP addresses, all names, all chess board configurations, etc.), all possible configs of whatever storing. Big af. IP addresses is 2^32 universe\n",
    "\n",
    "Goal: Wnat to maintain evolving set S contained in U. Smaller than U, generally a reasonable size. \n",
    "\n",
    "Naive Solutions:\n",
    " - Array-based solutions (indexed by U, all elements in universe lmao. Insane. O(1) operations, O(U) space which is impossible)\n",
    " - List-based solution (O(S) space but O(S) lookup). \n",
    " \n",
    "Solution (Kind of like array-based):\n",
    " - Pick n = # of \"buckets\", n ~ S. Maybe n = 2S. Each entry of array is one \"bucket.\" Assume while S itself can change, the size of S does not change too much. \n",
    " - Choose a Hash Function h:U; takes a key as an input and outputs a position in the array (0,1,2,...n-1 elements). Maps universe to buckets in the array. Tells u which position should store a given key in the universe\n",
    " - Use array A of length n, store x in A[h(x)]\n",
    "     - What about collisions? S < U. What if h(x) = h(y)? How do we deal with it? Pretty unavoidable tbh. \n",
    "     - For example, only need 23 people with random birthdays, at least a 50% chance that 2 people hve the same birthday. If on a planet with k days, abt sqrt(k) to have at least 50%. For n people, there are abt n^2 pairs of people. So, around there, may begin to see same birthdays. \n",
    "     - Hash functions effectively do a compression from U to buckets in n\n",
    " - Resolving Collisions (both fairly practical):\n",
    "     - Separate Chaining - Keep linked list in each bucket. Each bucket will contain list with unbounded # of elements (in principle). \n",
    "         - Given a key/object x, perform Insert/Delete/Lookup in list that's in the bucket. \n",
    "     - Open Addressing - only one object per bucket. \n",
    "         - Hash function now specifies a probe sequence where tries multiple positions in the array to store. \n",
    "         - EX: linear probing (try position x, then x+1, x+1...etc.)\n",
    "         - EX: Double-Hashing, 2 different hash functions. See first one and where it points to, if doesn't work, try 2nd func. 2nd func is an additive shift (so lets say first retuns x, 2nd returns 23, use 23 as an increment. Try x, x+23, x + 46, etc.)\n",
    "     - Open Addressing saves space compared to Separate Chaining, but deletion is more difficult\n",
    "         - If need be, implement both lmao"
   ]
  },
  {
   "cell_type": "markdown",
   "metadata": {},
   "source": [
    "### The Hash Function"
   ]
  },
  {
   "cell_type": "markdown",
   "metadata": {},
   "source": [
    "What makes one good?\n",
    "\n",
    "Note: In hash table with chaining, Insertion is O(1) (assuming insert new object x at front of a list in bucket in A[h(s)]\n",
    " - O(list length) for Insert/Delete\n",
    " - Lookup x in hash table, goes to bucket h(x) in O(1) time. Then, exhaustive search in list at that bucket, O(list length) for Insert/Delete. Can be anywhere from m/n to m for m objects. Worst function maps every x to same value lmao\n",
    " - Point: Performance depends on the choice of the hash function. Should distribute data well across buckets. True for both types of collision resolving. \n",
    "     - Analogous situation with open addressing. Wants probing so that do not need to repeat probing sequence too many times. \n",
    "     \n",
    "Properties of a \"Good\" Hash Function:\n",
    " - Should lead to good performance -> i.e. spread data out as equally as possible among buckets (Gold Standard: completely random function/hashing)\n",
    " - Hash function itself must be easy to store/very fast to evaluate. \n",
    " - Very difficult design. Even now, still very debated and done in diff ways\n",
    "\n",
    "Bad Hash Functions:\n",
    " - Easy to design, bad funcs lead to very bad performance\n",
    " - EX: Keys = phone numbers (10 digits in US). Universe size is 10^10, really fuckin big. \n",
    "     - Choose n = 1000. Hash func should take some number and spit out a number between 0 and 999.\n",
    "     - Really bad funtion: take most significant digits of ap hone number to define a mapping to a bucket (like an area code)\n",
    "         - Wastes space in hash table bc not all buckets are used, and some buckets wil lbe big.\n",
    "     - Mediocre: Use last 3 digits of phone number. Not guaranteed to be uniformly distributed, vulnerable to patterns.\n",
    " - EX: What if keys = memory locations (wil lbe multiples of a power of 2 bc in bytes)\n",
    "     - Bad hash function h(x) = x % 1000, gets remainder of memory / 1000. x base 10, take last 3 digits basically.\n",
    "         - All odd buckets guaranteed to be empty lmfao. All mults of power of 2 are even\n",
    "     \n",
    "Quick-And-Dirty Hash Funcs:\n",
    " - Think of design in 2 separate parts: Objects -> Integers -> Buckets. \"Hash Code\" + \"Compression Function.\" \n",
    "     - Hash code somtimes skipped (EX for phone numbers). But, Hash Func can take string and convert to integers. \n",
    "     - Compression Function like % operation above. \n",
    " - Need to choose good number of buckets n. \n",
    "     - Quick and dirty, use modulus compression, how choose n?\n",
    "     - Want to make sure no buckets are guaranteed to be empty (refer to memory EX above). \n",
    "     - Number of buckets should not share any factors with the data you are hashing. Make sure # of buckets should be prime, basically no nontrivial factors\n",
    "     - Number of buckets should be comparable to size of set that stored. Pick prime that is some constant factor away from total\n",
    "     - Wnat prime not to be too close to patterns in data:\n",
    "         - EX: patterns may show up in data for phone numbers in base 10 with area codes. Or, memory has base 2 issues.\n",
    "         \n",
    "This by no means state-of-the-art\n",
    "         "
   ]
  }
 ],
 "metadata": {
  "kernelspec": {
   "display_name": "Python 3",
   "language": "python",
   "name": "python3"
  },
  "language_info": {
   "codemirror_mode": {
    "name": "ipython",
    "version": 3
   },
   "file_extension": ".py",
   "mimetype": "text/x-python",
   "name": "python",
   "nbconvert_exporter": "python",
   "pygments_lexer": "ipython3",
   "version": "3.7.6"
  }
 },
 "nbformat": 4,
 "nbformat_minor": 4
}
