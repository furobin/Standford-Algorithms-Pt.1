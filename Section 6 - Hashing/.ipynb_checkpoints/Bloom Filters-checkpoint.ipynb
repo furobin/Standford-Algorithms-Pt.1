{
 "cells": [
  {
   "cell_type": "markdown",
   "metadata": {},
   "source": [
    "# Bloom Filters"
   ]
  },
  {
   "cell_type": "markdown",
   "metadata": {},
   "source": [
    "API : What Operations and what performance guarantees\n",
    "\n",
    "Supports fast Inserts and Lookups. Comparison vs. Hash Tables:\n",
    " - Pro: More space efficient \n",
    " - Cons: cannot store an associated object; deletions not allowed (at least not for vanilla BFs); small false-positive probability (i.e. might say x has been Inserted even though hasnt been)\n",
    "\n",
    "Operations:\n",
    " - \n",
    " \n",
    "Applications:\n",
    " - Early spellcheckers. Not a perfect one though. \n",
    " - List of forbidden passwords (ones that are too weak or something)\n",
    "     - Insert all passwords you would not want someone to use\n",
    "     - When someone tries a password, look up in Bloom Filter. If comes positive, tell them they need to choose new password. \n",
    " - Network routers - limited memory and need to be super fast. "
   ]
  },
  {
   "cell_type": "markdown",
   "metadata": {},
   "source": [
    "Ingredients:\n",
    " - Array of n bits (takes on 0 or 1). So, n/|S| = # of bits per object in data structure. Think of ratio as 8 for now; 8 bits per object in structure. \n",
    "     - For EX: if storing IP addresses (32 bits), represented as 8 bits. \n",
    " - k hash functions h1, h2, h3, ... hk; k = small constant\n",
    "\n",
    "Insert (x):\n",
    " - for i = 1,2,3,...k\n",
    "     - set A[hi(x)] = 1 (whether or not bi already set to 1. Sets these k bits = 1. \n",
    "\n",
    "Lookup(x): \n",
    " - If for all k A[hi(x)] = 1, return True\n",
    " \n",
    "Note: no false negatives. Can never happen because relevant bits never reset to 0. But, can produce false positives. \n",
    " - If look up an object, other previous objects may have set associated bits = 1 already. Returns false positive. "
   ]
  },
  {
   "cell_type": "markdown",
   "metadata": {},
   "source": [
    "## Analysis"
   ]
  },
  {
   "cell_type": "markdown",
   "metadata": {},
   "source": [
    "Note: Only useful if false-positive rate is small while the space per object is small. Looking at relationship between bits used to correctness of Bloom filter. There exists a trade-off between space and error. "
   ]
  },
  {
   "cell_type": "markdown",
   "metadata": {},
   "source": [
    "Assume [not justified, just for analysis and very ideal] - all hi(x) uniformly random and indepenent across different i's and x's\n",
    "\n",
    "Setup: n bits, insert data set S into bloom filter.\n",
    " - For each bit of A, the probability it's been set to 1 is under above assumption. \n",
    " - For a given bit on bloom filter, probability it has been set to 1 after entire S inserted is 1 - (1-1/n)^k|S|\n",
    " \n",
    "Recall: 1 + x <= e^x and 1-x <= e^-x\n",
    "\n",
    "So, prob a node set to 1 approx equal to 1 - e^(-k|S|/n). Let b = # of bits using per object. Then, 1 - e^(-k/b) is expression to left. Note that as b grows, probability of bit being set to 1 decreases (will translate to less false positives)."
   ]
  },
  {
   "cell_type": "markdown",
   "metadata": {},
   "source": [
    "Now: under assumption, for x not in S, a false positive will return if all k of its bits are set to one. \n",
    " - False positive probability is <= [1-e^(-k/b)]^k, i.e. probability all of x's k bits = 1. b = # bits per object remember"
   ]
  },
  {
   "cell_type": "markdown",
   "metadata": {},
   "source": [
    "How to set k: for a fixed b, the probability is minimized by setting k. Setting k ~ ln(2) * b will be p much minimized. k scales linearly with number of objects b used. Pick an integer around this value. \n",
    "\n",
    "Plugging k back into equation above:\n",
    " - Error Rate = (1/2) ^ (bln2); decreases very quickly as increases b. \n",
    " - b ~ 1.44log2(1/Error Rate) "
   ]
  },
  {
   "cell_type": "markdown",
   "metadata": {},
   "source": [
    "EX: with b = 8, set k = 5 or 6, then Error Rate ~ 2%. \n",
    "\n",
    "This performance is achievable in real world implementations. "
   ]
  }
 ],
 "metadata": {
  "kernelspec": {
   "display_name": "Python 3",
   "language": "python",
   "name": "python3"
  },
  "language_info": {
   "codemirror_mode": {
    "name": "ipython",
    "version": 3
   },
   "file_extension": ".py",
   "mimetype": "text/x-python",
   "name": "python",
   "nbconvert_exporter": "python",
   "pygments_lexer": "ipython3",
   "version": "3.7.6"
  }
 },
 "nbformat": 4,
 "nbformat_minor": 4
}
