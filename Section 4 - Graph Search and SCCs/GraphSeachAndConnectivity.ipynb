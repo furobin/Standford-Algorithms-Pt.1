{
 "cells": [
  {
   "cell_type": "markdown",
   "metadata": {},
   "source": [
    "# Graph Search And Connectivity\n"
   ]
  },
  {
   "cell_type": "markdown",
   "metadata": {},
   "source": [
    "Motivations:\n",
    " - Check if a nework is fully conected (can get from one point to any other point on the graph)\n",
    " - Find shortest paths from one point to another (such as driving directions)\n",
    " - This works for both physical networks and abstract networks\n",
    " - Example, can think of paths as a sequence of decisions. \n",
    " - Graph can be used to formulate a plan. (e.g. how to fill in a Sudoku puzzle; each vertex/node is an image of game board, each edge is a move in the game that directs you from vertex to vertex)\n",
    " - Compute the \"pieces\" or (\"components\") of a graph such as clustering, structure of graph, etc. \n",
    "\n",
    "Algorithms in this lecture will mostly be linear time w/very small constants. Hype as shit. "
   ]
  },
  {
   "cell_type": "markdown",
   "metadata": {},
   "source": [
    "Goals: \n",
    " - Passed in a source vertex (i.e. starting vertex), find everything findable from source vertex. \n",
    " - Do not want to explore any vertex/edge more than once. Goal is O(m + n) time. \n",
    " \n",
    "Generic Algorithm(given graph G, vertex s)\n",
    " - Initially s explored, all other vertices unexplored. Keep track with a boolean property\n",
    " - While possible:\n",
    "    - Choose an edge (u,v) with u explored and v unexplored. If none, halt. \n",
    "    - Mark v explored, \n",
    "\n",
    "Claim: At termination, all nodes that are marked explored are all nodes that an be findable from starting vertex s. True for both undirected and directed graph (true for p much all these algorithms). \n",
    " - If can explore a node, must have been done because followed edges from s that allow to get there. Easy induction on number of iterations in the cycle. \n",
    " - Impossible not to miss anything either, prove by contradiction. \n",
    "    - Consider if G has a path from s to v, but algorithm misses it (i.e. v is unexplored). \n",
    "    - s = explored, v = unexplored. \n",
    "    - At some point between s and v, there must be a hop moving from explored to unexplored. \n",
    "    - Consider first edge where this switch occurs with endpoints (u, w) with u explored, w unexplored. u could be s, w could be v, but also any in between. \n",
    "    - But, impossible via algorithm for there to be an edge where one end is explored, the other is unexplored. This is by definition of the algorithm. So, no way the algo terminates in this scenario.\n",
    "    - Thus, by contradicction, the claim is true. \n"
   ]
  },
  {
   "cell_type": "markdown",
   "metadata": {},
   "source": [
    "Consider nodes in two cuts: Explored and Unexplored. There are crossing edges between the two cuts. For directed, edges cross from explored to unexplored. \n",
    "\n",
    "How do we choose among the possible may \"frontier\" edges? \n",
    "\n",
    "BFS - Breadth-First Search:\n",
    " - Explore nodes in \"layers\" where s = layer 0, nodes adjacent to s = layer 1, nodes adjacent to layer 1 nodes not adjacent to layer s = layer 2, so on. Very cautious and tentative exploration of graph. \n",
    " - Can compute shortest paths. If node v is in layer i, need i hops to get from s to v.\n",
    " - Can compute connected components of an undirected graph. \n",
    " - Runs O(m+n) time. Need a queue data structure (first in, first out). \n",
    "    - With queue in python, consider a list. Use pop(0) to take out first element, append to add element to end. \n",
    "\n",
    "DFS - Depth-First Search:\n",
    " - More aggressive search. Try to plunge as deep as possible, only backtrack when necessary. Like exploring a maze.\n",
    " - Good for directed graph: can give topological ordering. Sequence nodes in a linear ordering from first to last so that all of the arcs of the graph go forward. Useful if have tasks that need to be completed in order. \n",
    " - Not the best for shortest paths. \n",
    " - Can find connected componenets for directed graphs, better than BFS.\n",
    "    - For connected components for undirected graphs, both DFS and BFS work. \n",
    " - Also O(m + n) time, use a stack data structure (Last in, first out) or do via recursion since stack implicitly taken care of in that way. \n",
    "    - With stack in Pytthon, consider a list. Use pop and append methods w/o needing parameters.\n",
    "\n",
    "For both data structures, can also code custom classes for stricter implementation."
   ]
  },
  {
   "cell_type": "markdown",
   "metadata": {},
   "source": [
    "## Breadth-First Search (BFS)"
   ]
  },
  {
   "cell_type": "markdown",
   "metadata": {},
   "source": [
    "Overview:\n",
    " - Explore nodes in \"layers\"\n",
    " - Compute shortest paths\n",
    " - Connected components of undirected graph\n",
    " - Will do in O(m + n) time, considerd lienar time. "
   ]
  },
  {
   "cell_type": "markdown",
   "metadata": {},
   "source": [
    "BFS(graph G, source vertex s): works w/both undirected and directed\n",
    " - Boolean at each node, all nodes initially unexplored. Mark s as explored\n",
    " - Q = queue data structure, initialized with s. \n",
    " - While Q != 0 (nonempty):\n",
    "    - remove the first node of the Q, call it v.\n",
    "    - for each edge (v,w):\n",
    "        - if w unexplored \n",
    "            = mark w as explored \n",
    "            - add w to Q (at the end)\n",
    "\n",
    "Layers based on how nodes are added to Q. \n",
    "            "
   ]
  },
  {
   "cell_type": "markdown",
   "metadata": {},
   "source": [
    "Claim #1: at the end of BFS, v explored has a path from s to v in G. \n",
    "\n",
    "Reason: special case of the generic algorithm, same process. Only marked explored if there is a sequence of paths that gets there. \n",
    "\n"
   ]
  },
  {
   "cell_type": "markdown",
   "metadata": {},
   "source": [
    "Claim #2: Running time of the main while loop = O(ns + ms) where ns = # of nodes reachable from s; ms = # of edges reachable from s. \n",
    "\n",
    "Reason: By inspection of code. "
   ]
  },
  {
   "cell_type": "markdown",
   "metadata": {},
   "source": [
    "Looking at work done:\n",
    "\n",
    "BFS(graph G, source vertex s): works w/both undirected and directed\n",
    " - Boolean at each node, all nodes initially unexplored. Mark s as explored\n",
    " - Q = queue data structure, initialized with s. \n",
    " - While Q != 0 (nonempty): Looks at each node once, only looks at nodes findable from s. So, ns. \n",
    "    - remove the first node of the Q, call it v. \n",
    "    - for each edge (v,w): May look at an edge (v,w) twice. At most, constant work per edge. So, ms. \n",
    "        - if w unexplored \n",
    "            = mark w as explored \n",
    "            - add w to Q (at the end)\n",
    "            "
   ]
  },
  {
   "cell_type": "markdown",
   "metadata": {},
   "source": [
    "### BFS and Shortest Paths"
   ]
  },
  {
   "cell_type": "markdown",
   "metadata": {},
   "source": [
    "Goal: Compute dist(v) distance from s to v, fewest # of edges on a path from s to v. Effectively, keeping track of layer of node v. \n",
    "\n",
    "Extra Code:\n",
    " - initialize dist(v) = 0 if v = s, infinity otherwise. \n",
    " - When considering edge (v,w):\n",
    "    - if w unexplored, then set dist(w) = dist(v) + 1\n",
    "    - For EX: edge (s,w), w unexplored. So dist(w) = dist(s) + 1 = 0 + 1 = 1. \n",
    "    - For edge (w,v), v unexplored. So dist(v) = dist(w) + 1 = 1 + 1 = 2. Etc.\n",
    "\n",
    "Claim: at termination, dist(v) = i iff (notation <=>) v is in the ith layer i.e. shortest s to v path has i edges \n",
    "\n",
    "Proof Idea: Every layer-i node w is added to Q by a layer-(i - 1) node v via the edge (v,w). Show through induction. \n",
    "\n",
    "Note, this is special for BFS. DFS doesnt usually do this. "
   ]
  },
  {
   "cell_type": "markdown",
   "metadata": {},
   "source": [
    "### BFS and Undirected Connectivity"
   ]
  },
  {
   "cell_type": "markdown",
   "metadata": {},
   "source": [
    "Let G = (V,E) be an undirected graph. Connected components = the \"pieces\" of G. \n",
    "\n",
    "Formal definition: equivalence classes of the relation u~v (~ is an equivalence relation) vertices there exists u-v path in G. \n",
    " - Equivalence classes must be reflexive (must be related to itself, yes path from node to itself), must be symmetric (if true for u to v, true for v to u), transitive (if u~v, v~w, then u~w, can be proven by pasting paths together). \n",
    " - If 5 nodes all connected, all five have an equivalence relation \n"
   ]
  },
  {
   "cell_type": "markdown",
   "metadata": {},
   "source": [
    "Goal: Compute all connected components. \n",
    " - Checks if network is disconnected. \n",
    " - Done for grpah visualization too, need to know if there are several pieces. \n",
    " - Also analyze clustering (for example, have set of objects) with pairwise function where for each pair of objects, tells you if objects are similar to each other. Have graph where nodes are the objects, put in an edge iff objects are similar. Then observe clustering. "
   ]
  },
  {
   "cell_type": "markdown",
   "metadata": {},
   "source": [
    "To compute all connected components (undirected graphs): \n",
    " - All nodes initialized as unexplored. Nodes named 1 to n. \n",
    " - for node in range(1,n):\n",
    "    = if node unexplored:\n",
    "        - BFS(G,node), will find all connected nodes to node. \n",
    "        - note, all nodes connected to node will be marked as explored and removed from for loop. \n",
    "\n",
    "Will find all connected components. Cannot miss any nodes bc will go through all nodes one time. BFS guarantees will find connected nodes for a given node; going through all nodes in the graph will find all.\n",
    "\n",
    "Running Time: O(m + n). BFS is O(m + n). for loop is O(n). O(1) per edge in each BFS; O(1) per node. "
   ]
  },
  {
   "cell_type": "markdown",
   "metadata": {},
   "source": [
    "## Depth-First Search (DFS)"
   ]
  },
  {
   "cell_type": "markdown",
   "metadata": {},
   "source": [
    "Overview:\n",
    " - Explore agressively, only backtrack when necessary. Similar to how people go through a maze. \n",
    " - Jumps from node to any adjacent node if not yet explored. Will try each edge it can. \n",
    " - Also computes a topological ordering of a directed acyclic graph (no directed cycle)\n",
    " - Also finds strongly connected components in directed graphs. \n",
    " - Running time O(m+n), hoping that graph is sparse too altho not necessary \n",
    " - Remember, uses stack and not queue. Supports constant time insertions and deletions w/front element. "
   ]
  },
  {
   "cell_type": "markdown",
   "metadata": {},
   "source": [
    "Exercise: \n",
    " - Mimic BFS code using a stack instead of a queue and other minor other modifications. \n",
    "\n",
    "Recursive Version - DFS(graph G, starting vertex s):\n",
    " - mark s as explored, other nodes unexplored\n",
    " - for every edge (s,v):\n",
    "    - if v unexplored \n",
    "        - DFS(G, v)\n",
    "\n",
    "Claim #1: at end of the algorithm, v marked as explored iff there exists a path from s to v in G. \n",
    "\n",
    "Reason: particular instantiation of generic search procedure. \n",
    "\n",
    "Claim #2: runningtime is O(ns + ms), ns = # of nodes reachable from s, ms = # of edges reachable from edge\n",
    "\n",
    "Reason: looks at each node in connected component of s at most once, looks at each edge at most twice."
   ]
  },
  {
   "cell_type": "markdown",
   "metadata": {},
   "source": [
    "### Topological Sort"
   ]
  },
  {
   "cell_type": "markdown",
   "metadata": {},
   "source": [
    "\n",
    "Definition: A topological ordering of a directed graph G is a labelling f of G's nodes such that:\n",
    " - the f(v)'s are the set {(1,2,...n)} where n is number of nodes\n",
    " - if (u,v) is a directed edge in G, then f(u) < f(v). Tail has lower f than head does. \n",
    "\n",
    "Motivation: \n",
    " - Seuquence tasks while respecting all precedence constraints for a task. For EX: classes for a major with prereqs.\n",
    "\n",
    "Note: \n",
    " - If G has a directed cycele thn there is no topologial ordering. Will run in a loop, definition does not hold. \n",
    "\n",
    "\n",
    "    "
   ]
  },
  {
   "cell_type": "markdown",
   "metadata": {},
   "source": [
    "Theorem: As long as there is no directed cycle, can compute a topological ordering in O(m + n) time (using DFS).\n",
    "`\n",
    "First, Straightforward Solution:\n",
    " - Every directed acyclic graph has a sink vertex - one without any outgoing arcs. \n",
    "    - Reason: If keep following an outgoing arc with constant n number of vertices, by pigeonhole principle, must see one vertex twice. Once this happens, creates a cycle. Thus, no longer an acyclic cycle. \n",
    " - To compute topological ordering:\n",
    "    - Let V be a sink vertex of G. v is labeled with f=n. \n",
    "    - Recurse on the rest of the graph that has n-1 vertices. Imagine initial v removed. Next sink will have f=n-1. \n",
    "    - Works even with multiple sink vertices. Doesn't matter which one is selected. Can have multiple topological orderings.\n",
    " - Honestly pretty good. Still runs in linear time. \n",
    "\n",
    "Why it works: when v is assigned to position i (when only i positions remain), v is always a sink vertex, all outoging arcs already deleted at that point. Outgoing arcs from v all go forward to higher positions that have been previously deleted. "
   ]
  },
  {
   "cell_type": "markdown",
   "metadata": {},
   "source": [
    "Topological Sort vis DFS:\n",
    "\n",
    "Need outer for loop to run through every node to have them all labeled. \n",
    "\n",
    "Reminder:\n",
    "DFS(graph G, starting vertex s):\n",
    " - mark s explored \n",
    " - for every edge (s,v):\n",
    "    - if v not yet explored\n",
    "        - DFS(G,v)\n",
    "\n",
    "Topological Sort:\n",
    "DFS-Loop(graph G):\n",
    "- mark all nodes unexplored\n",
    "- current_label = n (some global variable to keep track of ordering)\n",
    "- for node in nodes of G:\n",
    "    - if v not yet explored: (in some previous DFS call)\n",
    "        - DFS(G,v):\n",
    "            - Same as above but set f(s) = current_label)\n",
    "            - current_label -= 1\n",
    "\n",
    "Note: for edge (s,v), s is tail, v is head. \n",
    "\n",
    "Running Time: O(m + n). Each node explored one time bc none visit so constant work per node. Each edge will only be seen once (bc directed), constant work per edge. \n",
    "\n",
    "Correctness: If (u,v) is an edge, f(u) < f(v). Consider 2 cases (for whichever visited first):\n",
    "\n",
    "Case 1: u visited by DFS before v. v not yet explored, so DFS can go from u to v and will finish before going back to u. Thus, v will be assigned f value before u and will have higher f value. \n",
    "\n",
    "Case 2: v visited before u. DFS will finish all nodes adjaced to v and then assign v value. Since no directed cycle, there is no path from v to u, no directed path from v to u. Thus, v value assigned before u, will have higher f value. So, DFS correct. "
   ]
  },
  {
   "cell_type": "markdown",
   "metadata": {},
   "source": [
    "## Computing Strong Components"
   ]
  },
  {
   "cell_type": "markdown",
   "metadata": {},
   "source": [
    "Definition: The SSCs of a directed graph G are the equivalence classes of the relation u ~ v iff there exists a path from u to v and a path from v to u in G"
   ]
  },
  {
   "cell_type": "markdown",
   "metadata": {},
   "source": [
    "Kosaraju's Two-Pass Algorithm\n",
    " - Theorem: Can compute SCCs in O(m + n) time.\n",
    " - Algorithm:\n",
    "     - Given directed graph G\n",
    "     - Let Grev = G with all arcs reversed\n",
    "     - Run DFS-Loop on Grev (run on original graph going backwards to save memory)\n",
    "         - Finds \"magical order\" for 2nd DFS-Loop to run through with nodes\n",
    "         - Let f(v) for a node = its finishing time. \n",
    "     - Run DFS-Loop on G\n",
    "         - Finds SCCs by processing nodes in decreasing order of finishing time.\n",
    " "
   ]
  },
  {
   "cell_type": "markdown",
   "metadata": {},
   "source": [
    "DFS-Loop(graph G):\n",
    " - global variable t = 0 (# of nodes processed so far), finishing times in 1st pass\n",
    " - global variable s = Null (current source vertex), for leaders in 2nd pass\n",
    " - Assume nodes labelled 1 to n (arbitrarily, doesn't matter)\n",
    " - All nodes unexplroed, G reversed\n",
    " - for i in range (n to 1, decreasing):\n",
    "     - if i not yet explored:\n",
    "         - s = i (Not important for this first loop)\n",
    "         - DFS(G, i) recall:\n",
    "             - mark i as explored \n",
    "             - set leader of i = s\n",
    "             - for each arc (i, j) in G:\n",
    "                 - if j not yet explored:\n",
    "                     - DFS(G, j), note runs through each node once through entire for loop. so, t labels 1 to n\n",
    "             - t += 1\n",
    "             - set f(i) = t, setting finishing times. \n",
    " - unreverse G\n",
    " - for i in range (t to 1, decreasing), running DFS on nodes from largest fin time \n",
    "             \n",
    "Running Time: 2 * DFS = O(m + n).             "
   ]
  },
  {
   "cell_type": "markdown",
   "metadata": {},
   "source": [
    "### Analysis of Kosaraju"
   ]
  },
  {
   "cell_type": "markdown",
   "metadata": {},
   "source": [
    "Observation and Claim: The SCCs of a directed graph induce an acyclic meta-graph\n",
    " - meta-nodes = the SCCs, each SCC is basically a single node in this meta-graph. C1, C2...Ck\n",
    " - arcs = arcs between SCCs. For example, C1 incl node i, C2 incl node j, original graph has arc from i to j. Thus, C1 has arc to C2 (via i and j). \n",
    " - Acyclic bc if not acyclic, the different SCCs will collapse into a single SCCs. Different SCCs cannot be cyclic bc will be part of same SCC and thus cannot be different. \n",
    " \n",
    "G and Grev have the exact same SCCs. This is due to equivalence relation as previously stated that defines SCCs. "
   ]
  },
  {
   "cell_type": "markdown",
   "metadata": {},
   "source": [
    "Key Lemma: Consider 2 adjacent SCCs in G: C1 incl node i, C2 incl node j, edge goes from i (tail) to j (head)\n",
    " - Let f(v) = finishing times of DFS-loop in Grev\n",
    " - Then: max fval in C1 < max fval in C2. Consider this lemma to be true for now for a working hypothesis below\n",
    " - Corollary (stemming from Lemma being true): Consider max fval in entire graph i.e. node where 2nd DFS will begin:\n",
    "     - Must begin in a \"sink SCC\" that has no outgoing arcs, similar to a sink node. This true by Lemma. If it goes to any other, then the SCC it goes to will have a node that has a higher fval. Contradictory. \n",
    "     - Max fval will be in a sink SCC, even if multiple sink SCCs eit. Complete consequence of lemma. \n",
    " \n",
    " Correctness Intuition:\n",
    "  - With previous corollary accomplished, know that 2nd DFS-Loop will begin in a sink SCC, C*\n",
    "  - DFS in sink SCC C*, will discover all the nodes in that SCC and no more (since sink SCC does not connect to any other SCCs and, by definition, any other nodes)\n",
    "  - 2nd DFS will look at entire graph minus this sink C*, begin at next largest f-value. Similar to starting fresh on a smaller graph, will begin at another SCC with the largest fval (which will be a sink in this new graph missing C*)\n",
    "  - Will iterate, continuing on new sink SCCs in each graph. Effectively like topological sort above with nodes but this time with SCC. "
   ]
  },
  {
   "cell_type": "markdown",
   "metadata": {},
   "source": [
    "Proof of Key Lemma:\n",
    " - Recall: Let f(v) = finishing times of DFS-loop in Grev\n",
    " - Then: max fval in C1 < max fval in C2. Consider this lemma to be true for now for a working hypothesis below\n",
    " - In Grev, C1 has i, C2 has j, now edge goes from j (tail) to i (head). Remember, same SCCs as G. \n",
    " - Let v = 1st node in either C1 or C2 reache by 1st pass of DFS-Loop (on Grev). 2 Cases:\n",
    "     - Case 1 (see C1 first) - DFS will explore all of C1 before anything in C2. Cannot have a path from C1 that goes to C2, bc metagraph of directed graph is acyclic as argued above. Thus, all nodes of C1 seen before C2. In this case, all fvalues inside of C1 will be less than any fvalue in C2 (stronger than initial claim.\n",
    "     - Case 2 (see C2 first) - Let's say DFS runs on node v in C2. Will explore all nodes in both C1 and C2 except for v before assinging finishing time to v. Thus, f(v) will be greater than f value for all other nodes in C1 and C2 besides v. Thus, max fval of C2 > max fval of C1.\n",
    " - Given reasoning in these 2 cases, the Key Lemma is true. Thus, Kosaraju's is correct. "
   ]
  },
  {
   "cell_type": "markdown",
   "metadata": {},
   "source": [
    "## Structure of the Web:"
   ]
  },
  {
   "cell_type": "markdown",
   "metadata": {},
   "source": [
    "Structure:\n",
    " - Vertices = Web Pages\n",
    " - Directed Edges = hyperlinks\n",
    " \n",
    "Question: What does the Web graph look like? \n",
    " - Note, assume web already \"crawled\" i.e. vertex and directed edge information already gathered. Huge task. \n",
    " \n",
    "Size: 200 mil nodes, 1 bil edges (Reference: Broder et al WWW 200). Nowadays much larger\n",
    " - Current day, altho web larger, more tools to deal with large data (map reduction, hadoop, etc.)\n",
    " - These ppl calculated SCCs without these tools"
   ]
  },
  {
   "cell_type": "markdown",
   "metadata": {},
   "source": [
    "Bow Tie Structure:\n",
    " - Giant SCC \"Core of the Web\" - any webpage here, can get to any other webpage in this blob. \n",
    " - Out Group - numerous small SCCs that can be reached from Core but cannot go back to Core\n",
    "     - EX: Corporate sites. Policy for corporations is that corporat site hyperlinks can only reference other corporate sites. \n",
    " - In Group - numerous small SCCs that can reach the Core but cannot be reached from the Core\n",
    "     - EX: new webpages that reference pages in Giant but do not have references from Giant\n",
    " - Others:\n",
    "     - Tubes - Hyperlinks that go from In to Out without going thorugh Giant\n",
    "     - Tendrils\n",
    "         - Links that go out of In without going to giant\n",
    "         - Links that go to Out without coming from giant\n",
    "         - Isolated SCC islands not connected to SCC\n",
    "         \n",
    "Main Findings;\n",
    " - These findings, btw, scale to current day for the most part\n",
    " - 4 Parts (Giant, In, Out, and Others) are all abt equal size, each 25% of web\n",
    " - Giant Group is very well connected (\"small world\" property by Milgram)\n",
    "     - That is, to get from A to B in Giant, there are clues of hyperlinks to get there in p short path\n",
    "     - Also, following clues, this short path can be realized\n",
    "     - Think of getting from one wikipedia articlep age to another. \n",
    " - Things outside of the Giant are surprisingly poorly connected.\n",
    " \n",
    "Modern Web Research: \n",
    " - Temporal Aspects - How is the Web graph evolving over time?\n",
    " - Informational Aspects - How does new information propagate throughout the Web (or for blogosphere, Twitter, other social media, etc.)\n",
    " - Finer-Grained Structure - How to define and compute \"communities\" in information and social networks?\n",
    " \n",
    "Suggested Reading: \"Networks, Crowds, and Markets\" - Easley and Kleinberg "
   ]
  }
 ],
 "metadata": {
  "kernelspec": {
   "display_name": "Python 3",
   "language": "python",
   "name": "python3"
  },
  "language_info": {
   "codemirror_mode": {
    "name": "ipython",
    "version": 3
   },
   "file_extension": ".py",
   "mimetype": "text/x-python",
   "name": "python",
   "nbconvert_exporter": "python",
   "pygments_lexer": "ipython3",
   "version": "3.7.6"
  }
 },
 "nbformat": 4,
 "nbformat_minor": 2
}
