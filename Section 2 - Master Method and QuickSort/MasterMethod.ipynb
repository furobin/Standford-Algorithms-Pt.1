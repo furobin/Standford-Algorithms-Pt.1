{
 "cells": [
  {
   "cell_type": "markdown",
   "metadata": {},
   "source": [
    "# The Master Method"
   ]
  },
  {
   "cell_type": "markdown",
   "metadata": {},
   "source": [
    "Motivation:\n",
    " - Mathematial tool for analyzing runing time of DnC\n",
    " - Good prodictive power, method of mathematical analysis for time complexity\n",
    "\n",
    "Recurrence: use example of multiplying 2 n-digit numbers\n",
    " - T(n) maximum number of operations this algorithm needs to multiple two numbers\n",
    " - Express T(n) in terms of running time of recursive calls, want to upperbound this \n",
    " - Two pieces of it:\n",
    " - Base Case: T(1) <= some constant\n",
    " - General Case: for all n>1, T(n) <= 4T(n/2) + O(n), 4T(n/2) is work done by recursive calls, O(n) is work for combining"
   ]
  },
  {
   "cell_type": "markdown",
   "metadata": {},
   "source": [
    "Algorithm #2(Gauss) for multiplication:\n",
    " - Recursively compute ac, bd, (a + b)(c + d)\n",
    " - Base Case: T(1)\n",
    " - General Case: 3T(n/2) + O(n), only need 3 recursive calls instead of 4 from before"
   ]
  },
  {
   "cell_type": "markdown",
   "metadata": {},
   "source": [
    "Basically a \"black box\" for solving recurrences.\n",
    "\n",
    "Assumption: all subproblems have equal size. For example, merge-sort, subproblems all on inputs of size n/2.\n",
    "\n",
    "Recurrence Format:\n",
    " - Base Case: T(n) <= a constant for all sufficiently small n.\n",
    " - General Case (larger n): T(n) <= aT(n/b) + O(n^d)\n",
    "    - a = constant number of recursive calls >=1\n",
    "    - b = constant factor by which input size shrinks before recursive calls applied\n",
    "    - d = constant exponent in running time of \"combine\", >= 0\n",
    "\n",
    "So if T(n) <= aT(n/b) + O(n^d), then:\n",
    " - if a = b^d T(n) = O(n^d logn), base doesnt matter, diff bases differ by constant\n",
    " - if a < b^d T(n) = O(n^d)\n",
    " - if a > b^d T(n) = O(n^basebloga), base matters when log is in exponent\n",
    "\n"
   ]
  },
  {
   "cell_type": "markdown",
   "metadata": {},
   "source": [
    "Example with Merge Sort:\n",
    " - a = 2, runs two recurssive calls\n",
    " - b = 2, each array is split into two\n",
    " - d = 1, merging is linear time\n",
    " - a = b^d in this case so\n",
    " - T(n) = O(n^d logn) = O(nlogn) which we have proven before"
   ]
  },
  {
   "cell_type": "markdown",
   "metadata": {},
   "source": [
    "Example with n-digit Multiplication (not Gauss):\n",
    " - a = 4, 4 recurssive calls\n",
    " - b = 2, splits into two\n",
    " - d = 1, work outside of recursive calls, addition is linear time\n",
    " - Case 3: T(n) = O(n logbase2(4)) = O(n^2)"
   ]
  },
  {
   "cell_type": "markdown",
   "metadata": {},
   "source": [
    "Example with Gauss Mult:\n",
    " - a = 3\n",
    " - b = 2\n",
    " - d = 1\n",
    " - Case 3 T(n) = O(n logbase2(3)) < O(n^2)"
   ]
  },
  {
   "cell_type": "markdown",
   "metadata": {},
   "source": [
    "Proof: Use recurssion tree.\n",
    "Work at level j <= a^j * c * (n/b^j)^d = cn^d * (a/b^d)^j\n",
    "Work from All Levels <= cn^d * sigma(0, logbaseb n) (a/b^d)^j"
   ]
  },
  {
   "cell_type": "markdown",
   "metadata": {},
   "source": [
    "Interpretation with Cases:\n",
    " - a = rate of subproblem proliferation as moving down the tree (RSP), evil bc makes run slower\n",
    " - b^d = rate of work shrinkage per subproblem (RWS)\n",
    "    - note, b^d because b is factor by which input size shrinks, matters as it determines amount of work decreased. d, referring to work outside of recurssive calls. So, for example, if b = 2 and d = 1, input size is dropping by factor of two but so is amount of work done per sub problem. If d = 2, if input is cut in half, recurssive call only does 25% of work compared to current level, even greater reduction."
   ]
  },
  {
   "cell_type": "markdown",
   "metadata": {},
   "source": [
    "Example with Strassen Matrix Mult:\n",
    " - a = 7\n",
    " - b = 2\n",
    " - d = 2 (linear in matrix )"
   ]
  }
 ],
 "metadata": {
  "language_info": {
   "codemirror_mode": {
    "name": "ipython",
    "version": 3
   },
   "file_extension": ".py",
   "mimetype": "text/x-python",
   "name": "python",
   "nbconvert_exporter": "python",
   "pygments_lexer": "ipython3",
   "version": 3
  },
  "orig_nbformat": 2
 },
 "nbformat": 4,
 "nbformat_minor": 2
}