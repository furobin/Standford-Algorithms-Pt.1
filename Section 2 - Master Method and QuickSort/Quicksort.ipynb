{
 "cells": [
  {
   "cell_type": "markdown",
   "metadata": {},
   "source": [
    "# Quicksort Algorithm"
   ]
  },
  {
   "cell_type": "markdown",
   "metadata": {},
   "source": [
    "Overview:\n",
    " - Prevalent in practice and good analysis, on average O(nlogn) time. Often better than MergeSort\n",
    " - Operates in place i.e. minimal extra memory needed unlike MergeSort \n",
    "\n",
    "The Sorting Problem: Given array of n numbers in random order. "
   ]
  },
  {
   "cell_type": "code",
   "execution_count": 1,
   "metadata": {},
   "outputs": [],
   "source": [
    "testIn = [3,8,2,5,1,4,7,6]\n",
    "desiredOut = [1,2,3,4,5,6,7,8]\n",
    "#Assume all array entries are distinct for now"
   ]
  },
  {
   "cell_type": "markdown",
   "metadata": {},
   "source": [
    "Idea: Partition array around a pivot element. \n",
    " - Pick 1 element in array to be pivot element. For now, think of it as the first element (3) \n",
    " - Rearrange array so:\n",
    "    - Left of pivot = less than pivot\n",
    "    - Right of pivot = greater than pivot. \n",
    "    - EX: [2,1,3,6,7,4,5,8]\n",
    "- Puts pivot in its \"right position\" for the final array. \n",
    "\n",
    "Why:\n",
    " - Partitioning runs in linear time O(n), w/no extra memory\n",
    " - Reduces problem size, enables DnC approach toward sorting the input array"
   ]
  },
  {
   "cell_type": "markdown",
   "metadata": {},
   "source": [
    "QuickSort High Level Description:\n",
    "- Takes array A of length n\n",
    "- if n = 1, return A \n",
    "- p = ChoosePivot(A,n) to be discussed in detail\n",
    "- Partition(A,p)\n",
    "- Recurse on both sides of partition.\n",
    "- QuickSort(LeftPartition)\n",
    "- QuickSort(RightPartition)\n",
    "\n",
    "Different from MergeSort in that MergeSort first divides into two pieces and the recurse whereas here, recursive calls come last. There is no merge step here "
   ]
  },
  {
   "cell_type": "markdown",
   "metadata": {},
   "source": [
    "### Partition Subroutine"
   ]
  },
  {
   "cell_type": "markdown",
   "metadata": {},
   "source": [
    "Consider if didn't care about in-place requirement, fairly easy to partition in O(n) time.\n",
    " - Create 2nd array\n",
    " - Compare each element of original array to pivot\n",
    "    - If greater, put at right end of pivot\n",
    "    - If less, put at left end of pivot.\n",
    " - When scanned through input array, 1 spot left. Place pivot there. Easy O(n)\n",
    "\n"
   ]
  },
  {
   "cell_type": "markdown",
   "metadata": {},
   "source": [
    "In-Place Solution Overview:\n",
    "- For simplicity rn, assume 1st element of array is the pivot. Could do any with a preprocessing step that swaps first element of array with selected pivot in the middle.\n",
    "- Single for-loop. \n",
    "- 2 groups: what has been seen, what has not been seen\n",
    "    - Within seen group, split elements into those bigger than pivot and those smaller\n",
    "- invariant: Everything looked at in input array will be partitioned\n",
    "\n",
    "Step Example:\n",
    " - *looked at*, **not looked at**\n",
    " - j is boundary between looked at and not, i is boundary within looked at \n",
    " - 3, ij **8,2,5,1,4,7,6**  3 selected as pivot \n",
    " - 3,i *8*, j **2,5,1,4,7,6**\n",
    " - 3, *2,i 8*, j **5,1,4,7,6** swap two and eight, keeps seen section partitioned.\n",
    " - 3, *2,i 8, 5*, j **1,4,7,6**, no swap necessary because 5 is bigger than pivot. \n",
    " - 3, *2,1, i 5, 8*,j **4,7,6**, swap 1 and 8 since 1 is less than pivot, uses i as guideline index for leftmost entry in seen array that is bigger than pivot\n",
    " - 3, *2,1, i 5, 8, 4* j **7,6**\n",
    " - ... no swaps necessary since 7 and 6 larger than pivot.\n",
    " - 3, *2, 1, i 5, 8, 4, 7, 6* j, j basically off the array\n",
    " - *1, 2, 3, 5, 8, 4, 7, 6* 3 swapped places with 1, 1 is right-most element of seen array that is less than 3 "
   ]
  },
  {
   "cell_type": "markdown",
   "metadata": {},
   "source": [
    "Partition Pseudocode:\n",
    " - Partition(A, l, r) where l and r are left and right boundaries of subarray\n",
    " - pivot = A(l), leftmost index\n",
    " - i = l + 1\n",
    " - j = l + 1 to r\n",
    " - for value in j (linear scan through array):\n",
    "    - if A[j] < pivot: (newly seen element less than p, if A[j] > p do nothing)\n",
    "        - swap to ith index in array (may have redundant swaps but not too important. Only need swap if have seen elements larger than pivot)\n",
    "        - i += 1\n",
    " - swap pivot with right-most element less than it "
   ]
  },
  {
   "cell_type": "code",
   "execution_count": 3,
   "metadata": {
    "tags": []
   },
   "outputs": [
    {
     "output_type": "stream",
     "name": "stdout",
     "text": "5\n"
    }
   ],
   "source": [
    "test = [1,2,3,4,5]\n",
    "print(len(test))"
   ]
  },
  {
   "cell_type": "code",
   "execution_count": 32,
   "metadata": {
    "tags": []
   },
   "outputs": [
    {
     "output_type": "stream",
     "name": "stdout",
     "text": "[3, 8, 2, 5, 1, 4, 7, 6]\n[1, 5, 7, 8, 9, 10]\n[0, 0, 0, 0, 0, 1, 2, 3, 4, 5, 6, 7]\n"
    }
   ],
   "source": [
    "def SwapPositions(inList, x, y):\n",
    "    inList[x], inList[y] = inList[y], inList[x]\n",
    "\n",
    "def Partition(A, l, r):\n",
    "    pivot = A[l]\n",
    "    i = l + 1\n",
    "    for j in range(i, r + 1):\n",
    "        if A[j] < pivot:\n",
    "            SwapPositions(A, i, j)\n",
    "            i += 1\n",
    "    SwapPositions(A, l, i - 1)\n",
    "    return i-1\n",
    "\n",
    "def QuickSort(A, l, r):\n",
    "    if l < r:\n",
    "        part = Partition(A, l, r)\n",
    "        QuickSort(A, l, part - 1)\n",
    "        QuickSort(A, part + 1, r)\n",
    "\n",
    "\n",
    "\n",
    "test1 = [3,8,2,5,1,4,7,6]\n",
    "QuickSort(test, 0, len(test1)-1)\n",
    "print(test1)\n",
    "\n",
    "test2 = [10,7,8,9,1,5]\n",
    "QuickSort(test2, 0, len(test2)-1)\n",
    "print(test2)\n",
    "\n",
    "test3 = [0,0,0,0,0,7,6,5,4,3,2,1]\n",
    "QuickSort(test3, 0, len(test3)-1)\n",
    "print(test3)"
   ]
  },
  {
   "cell_type": "markdown",
   "metadata": {
    "tags": []
   },
   "source": [
    "### Choosing a Good Pivot"
   ]
  },
  {
   "cell_type": "markdown",
   "metadata": {},
   "source": [
    "Very important to choose a good pivot since the running time of QuickSort depends on this pivot. Good if it splits the partitioned array into roughly 2 equal subproblems. "
   ]
  },
  {
   "cell_type": "markdown",
   "metadata": {},
   "source": [
    "Worst Case: Pivot always choose first element of array passed in, the passed-in array is already sorted. This would have at minimum running time of Theta(n^2)\n",
    "\n",
    "Best Case: Pivot splits array into half. Runs in Theta(nlogn)"
   ]
  },
  {
   "cell_type": "markdown",
   "metadata": {},
   "source": [
    "## Assignment"
   ]
  },
  {
   "cell_type": "code",
   "execution_count": 2,
   "metadata": {},
   "outputs": [],
   "source": [
    "testFile = open(r\"C:\\Users\\foobe\\Documents\\Algorithms\\Part 1\\Section 2\\QuickSort.txt\", \"r\")\n",
    "inList = testFile.readlines()\n",
    "inList = [int(x[0:-1]) for x in inList]"
   ]
  },
  {
   "cell_type": "markdown",
   "metadata": {},
   "source": [
    "#1. Use first element of array as the pivot element."
   ]
  },
  {
   "cell_type": "code",
   "execution_count": 3,
   "metadata": {
    "tags": []
   },
   "outputs": [
    {
     "output_type": "stream",
     "name": "stdout",
     "text": "66523347\n"
    }
   ],
   "source": [
    "rec = 0\n",
    "\n",
    "def SwapPositions(inList, x, y):\n",
    "    inList[x], inList[y] = inList[y], inList[x]\n",
    "\n",
    "def Partition(A, l, r):\n",
    "    global rec\n",
    "    pivot = A[l]\n",
    "    i = l + 1\n",
    "    for j in range(i, r + 1):\n",
    "        if A[j] < pivot:\n",
    "            SwapPositions(A, i, j)\n",
    "            i += 1\n",
    "    SwapPositions(A, l, i - 1)\n",
    "    rec += len(A) - 1\n",
    "    return i-1\n",
    "\n",
    "def QuickSort(A, l, r):\n",
    "    if l < r:\n",
    "        part = Partition(A, l, r)\n",
    "        QuickSort(A, l, part - 1)\n",
    "        QuickSort(A, part + 1, r)\n",
    "\n",
    "QuickSort(inList, 0, len(inList) - 1)\n",
    "print(rec)"
   ]
  },
  {
   "cell_type": "markdown",
   "metadata": {},
   "source": [
    "#2. Use last element of array as the pivot element."
   ]
  },
  {
   "cell_type": "code",
   "execution_count": 4,
   "metadata": {},
   "outputs": [],
   "source": [
    "testFile = open(r\"C:\\Users\\foobe\\Documents\\Algorithms\\Part 1\\Section 2\\QuickSort.txt\", \"r\")\n",
    "inList = testFile.readlines()\n",
    "inList = [int(x[0:-1]) for x in inList]"
   ]
  },
  {
   "cell_type": "code",
   "execution_count": 5,
   "metadata": {
    "tags": []
   },
   "outputs": [
    {
     "output_type": "stream",
     "name": "stdout",
     "text": "66313368\n"
    }
   ],
   "source": [
    "rec = 0\n",
    "\n",
    "def SwapPositions(inList, x, y):\n",
    "    inList[x], inList[y] = inList[y], inList[x]\n",
    "\n",
    "def Partition(A, l, r):\n",
    "    global rec\n",
    "    pivot = A[r]\n",
    "    SwapPositions(A, l, r)\n",
    "    i = l + 1\n",
    "    for j in range(i, r + 1):\n",
    "        if A[j] < pivot:\n",
    "            SwapPositions(A, i, j)\n",
    "            i += 1\n",
    "    SwapPositions(A, l, i - 1)\n",
    "    rec += len(A) - 1\n",
    "    return i-1\n",
    "\n",
    "def QuickSort(A, l, r):\n",
    "    if l < r:\n",
    "        part = Partition(A, l, r)\n",
    "        QuickSort(A, l, part - 1)\n",
    "        QuickSort(A, part + 1, r)\n",
    "\n",
    "QuickSort(inList, 0, len(inList) - 1)\n",
    "print(rec)\n"
   ]
  },
  {
   "cell_type": "markdown",
   "metadata": {},
   "source": [
    "#3 Median-Of-Three pivot rule."
   ]
  },
  {
   "cell_type": "code",
   "execution_count": 1,
   "metadata": {},
   "outputs": [],
   "source": [
    "testFile = open(r\"C:\\Users\\foobe\\Documents\\Algorithms\\Part 1\\Section 2\\QuickSort.txt\", \"r\")\n",
    "inList = testFile.readlines()\n",
    "inList = [int(x[0:-1]) for x in inList]"
   ]
  },
  {
   "cell_type": "code",
   "execution_count": 2,
   "metadata": {
    "tags": []
   },
   "outputs": [
    {
     "output_type": "stream",
     "name": "stdout",
     "text": "66593340\n"
    }
   ],
   "source": [
    "rec = 0\n",
    "\n",
    "def medianThree(A, l ,r):\n",
    "    left = A[l]\n",
    "    right = A[r]\n",
    "    mid = A[len(A)//2 - 1]\n",
    "    if left > right:\n",
    "        if left < mid:\n",
    "            return l \n",
    "        elif right > mid:\n",
    "            return r \n",
    "        else:\n",
    "            return len(A)//2 - 1\n",
    "    else: \n",
    "        if left > mid:\n",
    "            return l\n",
    "        elif right < mid:\n",
    "            return r \n",
    "        else:\n",
    "            return len(A)//2 - 1\n",
    "\n",
    "def SwapPositions(inList, x, y):\n",
    "    inList[x], inList[y] = inList[y], inList[x]\n",
    "\n",
    "def Partition(A, l, r):\n",
    "    global rec\n",
    "    pivDex = medianThree(A, l, r)\n",
    "    pivot = A[pivDex]\n",
    "    SwapPositions(A, l, pivDex)\n",
    "    i = l + 1\n",
    "    for j in range(i, r + 1):\n",
    "        if A[j] < pivot:\n",
    "            SwapPositions(A, i, j)\n",
    "            i += 1\n",
    "    SwapPositions(A, l, i - 1)\n",
    "    rec += len(A) - 1\n",
    "    return i-1\n",
    "\n",
    "def QuickSort(A, l, r):\n",
    "    if l < r:\n",
    "        part = Partition(A, l, r)\n",
    "        QuickSort(A, l, part - 1)\n",
    "        QuickSort(A, part + 1, r)\n",
    "\n",
    "QuickSort(inList, 0, len(inList) - 1)\n",
    "print(rec)"
   ]
  },
  {
   "cell_type": "code",
   "execution_count": 5,
   "metadata": {},
   "outputs": [
    {
     "output_type": "execute_result",
     "data": {
      "text/plain": "0"
     },
     "metadata": {},
     "execution_count": 5
    }
   ],
   "source": [
    "def medianThree(A, l ,r):\n",
    "    left = A[l]\n",
    "    right = A[r]\n",
    "    mid = A[len(A)//2 - 1]\n",
    "    if left > right:\n",
    "        if left < mid:\n",
    "            return l \n",
    "        elif right > mid:\n",
    "            return r \n",
    "        else:\n",
    "            return len(A)//2 - 1\n",
    "    else: \n",
    "        if left > mid:\n",
    "            return l\n",
    "        elif right < mid:\n",
    "            return r \n",
    "        else:\n",
    "            return len(A)//2 - 1\n",
    "\n",
    "testList = [7,2,8,9,5,0,3,5,4]\n",
    "medianThree(testList, 0, len(testList) - 1)"
   ]
  }
 ],
 "metadata": {
  "language_info": {
   "codemirror_mode": {
    "name": "ipython",
    "version": 3
   },
   "file_extension": ".py",
   "mimetype": "text/x-python",
   "name": "python",
   "nbconvert_exporter": "python",
   "pygments_lexer": "ipython3",
   "version": "3.7.6-final"
  },
  "orig_nbformat": 2,
  "kernelspec": {
   "name": "python37464bitbaseconda595370dce47045e093c92b7a9216e1c8",
   "display_name": "Python 3.7.4 64-bit ('base': conda)"
  }
 },
 "nbformat": 4,
 "nbformat_minor": 2
}